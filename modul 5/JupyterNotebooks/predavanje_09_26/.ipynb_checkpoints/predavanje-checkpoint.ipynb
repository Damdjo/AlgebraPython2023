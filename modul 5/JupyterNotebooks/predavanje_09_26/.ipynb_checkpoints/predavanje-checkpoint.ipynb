{
 "cells": [
  {
   "cell_type": "markdown",
   "id": "f8473025",
   "metadata": {},
   "source": [
    "# regex \n"
   ]
  },
  {
   "cell_type": "code",
   "execution_count": 8,
   "id": "279271ad",
   "metadata": {},
   "outputs": [],
   "source": [
    "import re\n",
    "gradovi = ['   Zagreb ', 'Osijek!', 'Rijeka', 'rijeka', 'PUla', 'slavonski brod##', 'Nova gradiska?']\n",
    "\n",
    "\n",
    "def popravi_unos(lista):\n",
    "    rezultat = []\n",
    "    for element in lista:\n",
    "        print(element)\n",
    "        element = element.strip()\n",
    "        print(element)\n",
    "        element = re.sub(\"[!#?]\", \"\",element)\n",
    "        print(element)\n",
    "        element = element.title()\n",
    "        print(element,\"\\n\")\n",
    "        rezultat.append(element)\n",
    "        \n",
    "    return rezultat\n",
    "\n",
    "\n",
    "#popravi_unos(gradovi)"
   ]
  },
  {
   "cell_type": "markdown",
   "id": "99c016a4",
   "metadata": {},
   "source": [
    "Napravite listu operacija koje želite omogućiti administratoru tijekom čišćenja unosa od korisnika te pomoću više funkcija (onoliko koliko mislite da je potrebno) omogućite istu funkcionalnost kao u prethodnom primjeru. "
   ]
  },
  {
   "cell_type": "code",
   "execution_count": 36,
   "id": "5db644bb",
   "metadata": {},
   "outputs": [
    {
     "name": "stdout",
     "output_type": "stream",
     "text": [
      "Zagreb \n",
      "Osijek\n",
      "Rijeka a\n",
      "rijeka\n",
      "PUla\n",
      "slavonski brod\n",
      "Nova gradiska\n"
     ]
    }
   ],
   "source": [
    "operacije = [\"remove_symbols\",]\n",
    "\n",
    "gradovi = ['   Zagreb ', ' Osijek!', 'Rijeka !!a', 'rijeka', 'PUla', 'slavonski brod##', 'Nova gradiska?']\n",
    "def remove_symbols(string):\n",
    "    word = \"\"\n",
    "    \n",
    "    string = list(string)\n",
    "    \n",
    "    leading_space = True\n",
    "    ending_space = True\n",
    "    for index, char in enumerate(string):\n",
    "        match char.lower():\n",
    "            case \" \" if leading_space:\n",
    "                string[index] = \"\"\n",
    "                \n",
    "            case \" \" | \"a\" | \"b\" | \"c\" | \"d\" | \"e\" | \"f\" | \"g\" | \"h\" | \"i\" | \"j\" | \"k\" | \"l\" | \"m\" | \"n\" | \"o\" | \"p\" | \"q\" | \"r\" | \"s\" | \"t\" | \"u\" | \"v\" | \"w\" | \"x\" | \"y\" | \"z\":\n",
    "                word += char\n",
    "                leading_space = False\n",
    "            case _ if char != \" \":\n",
    "                #string[index] = \"\"\n",
    "                pass\n",
    "       \n",
    "    return str(word)\n",
    "                \n",
    "                \n",
    "            \n",
    "    \n",
    "for grad in gradovi:\n",
    "    print(remove_symbols(grad))"
   ]
  },
  {
   "cell_type": "code",
   "execution_count": 55,
   "id": "b1ed467e",
   "metadata": {},
   "outputs": [
    {
     "name": "stdout",
     "output_type": "stream",
     "text": [
      "#16e950\n",
      "(22, 233, 80)\n"
     ]
    }
   ],
   "source": [
    "#regex koji provjerava može li uneseno biti hexadekadski broj ili ne\n",
    "\n",
    "import re\n",
    "\n",
    "\n",
    "def check_hex(string):\n",
    "    if re.match(\"^[#][0-9a-fA-F]{6}$\", string):\n",
    "        print(string)\n",
    "        r = int(string[1:3],16)\n",
    "        g = int(string[3:5],16)\n",
    "        b = int(string[5:7],16)\n",
    "        print((r,g,b))\n",
    "    else:\n",
    "        print(\"not hex\")\n",
    "        \n",
    "check_hex(\"#16e950\")"
   ]
  },
  {
   "cell_type": "markdown",
   "id": "a99d1ef1",
   "metadata": {},
   "source": [
    "# LAMBDA"
   ]
  },
  {
   "cell_type": "code",
   "execution_count": 61,
   "id": "d9383abe",
   "metadata": {},
   "outputs": [
    {
     "data": {
      "text/plain": [
       "11"
      ]
     },
     "execution_count": 61,
     "metadata": {},
     "output_type": "execute_result"
    }
   ],
   "source": [
    "def naziv_funkcije(arg1, arg2):\n",
    "    return (arg1*arg2)+3\n",
    "\n",
    "naziv_funkcije(2,3)\n",
    "\n",
    "x = lambda arg1,arg2: (arg1*arg2)+3\n",
    "\n",
    "x(2,4)"
   ]
  },
  {
   "cell_type": "code",
   "execution_count": 63,
   "id": "41ff9758",
   "metadata": {},
   "outputs": [
    {
     "name": "stdout",
     "output_type": "stream",
     "text": [
      "[25.6, 25.9, 26.3, 26.8, 27.1, 27.3, 27.5, 27.8, 27.2, 26.8, 26.3, 26.1, 25.5]\n"
     ]
    }
   ],
   "source": [
    "dnevne_temperature = [15.1, 15.2, 15.6, 16.1, 16.8, 17.3, 17.3, 17.9, 18.3, 19.1, 20.3, 20.5, 20.8, \n",
    "                      21.2, 21.8, 22.3, 23.1, 24.5, 25.6, 25.9, 26.3, 26.8, 27.1, 27.3, 27.5, 27.8, \n",
    "                      27.2, 26.8, 26.3, 26.1, 25.5, 24.6, 23.9, 23.3, 22.8, 22.1, 21.3, 20.5, 19.8,\n",
    "                      19.5, 19.1, 18.6, 18.1, 17.6, 16.8, 16.3, 15.9, 15.4, 15.2, 14.9, 14.6, 14.1] \n",
    "\n",
    "dtv25 = list(filter(lambda temperatura: (temperatura>25.0),dnevne_temperature))\n",
    "\n",
    "print(dtv25)"
   ]
  },
  {
   "cell_type": "code",
   "execution_count": 64,
   "id": "d0a16647",
   "metadata": {},
   "outputs": [
    {
     "data": {
      "text/plain": [
       "'Mate Matic'"
      ]
     },
     "execution_count": 64,
     "metadata": {},
     "output_type": "execute_result"
    }
   ],
   "source": [
    "puno_ime = lambda ime, prezime: f\"{ime.title()} {prezime.title()}\"\n",
    "\n",
    "puno_ime(\"mate\", \"MATIC\")"
   ]
  },
  {
   "cell_type": "code",
   "execution_count": 75,
   "id": "52f95d12",
   "metadata": {},
   "outputs": [
    {
     "name": "stdout",
     "output_type": "stream",
     "text": [
      "[78.08, 78.62, 79.34, 80.24, 80.78, 81.14, 81.5, 82.04, 80.96, 80.24, 79.34, 78.98, 77.9]\n"
     ]
    }
   ],
   "source": [
    "dtv25f = list(map(lambda temperatura: round((temperatura * 9/5) + 32, 2), dtv25))\n",
    "\n",
    "print(dtv25f)"
   ]
  },
  {
   "cell_type": "code",
   "execution_count": 77,
   "id": "a165aa78",
   "metadata": {},
   "outputs": [],
   "source": [
    "#print(5/0)"
   ]
  },
  {
   "cell_type": "code",
   "execution_count": 83,
   "id": "28136857",
   "metadata": {},
   "outputs": [
    {
     "data": {
      "text/plain": [
       "1.25"
      ]
     },
     "execution_count": 83,
     "metadata": {},
     "output_type": "execute_result"
    }
   ],
   "source": [
    "def dijeljenje(x,y):\n",
    "    try:\n",
    "        return x/y\n",
    "    except ZeroDivisionError:\n",
    "        return \"Nije moguće dijeliti sa 0\"\n",
    "    \n",
    "    \n",
    "dijeljenje(10,8)"
   ]
  },
  {
   "cell_type": "markdown",
   "id": "f4dd7adf",
   "metadata": {},
   "source": [
    "# KLASE"
   ]
  },
  {
   "cell_type": "code",
   "execution_count": 86,
   "id": "dff3b100",
   "metadata": {},
   "outputs": [
    {
     "name": "stdout",
     "output_type": "stream",
     "text": [
      "2000.0\n",
      "240.0\n",
      "Mate Matic\n"
     ]
    }
   ],
   "source": [
    "class Djelatnik:\n",
    "    def __init__(self, placa, ime, prezime):\n",
    "        self.placa = 2000.0\n",
    "        self.ime = ime\n",
    "        self.prezime = prezime\n",
    "        self.prirez = 0.0\n",
    "    def izracunaj_prirez(self, iznos_prireza):\n",
    "        self.prirez = self.placa*iznos_prireza\n",
    "        \n",
    "programer = Djelatnik(1000.0, \"Mate\", \"Matic\")\n",
    "print(programer.placa)\n",
    "\n",
    "programer.izracunaj_prirez(0.12)\n",
    "print(programer.prirez)\n",
    "\n",
    "print(programer.ime, programer.prezime)"
   ]
  },
  {
   "cell_type": "code",
   "execution_count": 127,
   "id": "c63dfa65",
   "metadata": {},
   "outputs": [
    {
     "name": "stdout",
     "output_type": "stream",
     "text": [
      ",,37389218,https://earthquake.usgs.gov/fdsnws/event/1/query?eventid=ci37389218&format=geojson,0.008693,,85.0,\",ci37389218,\",1.35,ml,,ci,26.0,\"9km NE of Aguanga, CA\",0.19,28,\",ci,\",automatic,1539475168010,\"M 1.4 - 9km NE of Aguanga, CA\",0,earthquake,\",geoserve,nearby-cities,origin,phase-data,\",-480.0,1539475395144,https://earthquake.usgs.gov/earthquakes/eventpage/ci37389218\n",
      "\n",
      ",,37389202,https://earthquake.usgs.gov/fdsnws/event/1/query?eventid=ci37389202&format=geojson,0.02003,,79.0,\",ci37389202,\",1.29,ml,,ci,20.0,\"9km NE of Aguanga, CA\",0.29,26,\",ci,\",automatic,1539475129610,\"M 1.3 - 9km NE of Aguanga, CA\",0,earthquake,\",geoserve,nearby-cities,origin,phase-data,\",-480.0,1539475253925,https://earthquake.usgs.gov/earthquakes/eventpage/ci37389202\n",
      "\n",
      ",4.4,37389194,https://earthquake.usgs.gov/fdsnws/event/1/query?eventid=ci37389194&format=geojson,0.02137,28.0,21.0,\",ci37389194,\",3.42,ml,,ci,111.0,\"8km NE of Aguanga, CA\",0.22,192,\",ci,\",automatic,1539475062610,\"M 3.4 - 8km NE of Aguanga, CA\",0,earthquake,\",dyfi,focal-mechanism,geoserve,nearby-cities,origin,phase-data,\",-480.0,1539536756176,https://earthquake.usgs.gov/earthquakes/eventpage/ci37389194\n",
      "\n",
      ",,37389186,https://earthquake.usgs.gov/fdsnws/event/1/query?eventid=ci37389186&format=geojson,0.02618,,39.0,\",ci37389186,\",0.44,ml,,ci,26.0,\"9km NE of Aguanga, CA\",0.17,3,\",ci,\",automatic,1539474978070,\"M 0.4 - 9km NE of Aguanga, CA\",0,earthquake,\",geoserve,nearby-cities,origin,phase-data,\",-480.0,1539475196167,https://earthquake.usgs.gov/earthquakes/eventpage/ci37389186\n",
      "\n",
      ",,73096941,https://earthquake.usgs.gov/fdsnws/event/1/query?eventid=nc73096941&format=geojson,0.07799,,192.0,\",nc73096941,\",2.16,md,,nc,18.0,\"10km NW of Avenal, CA\",0.05,72,\",nc,\",automatic,1539474716050,\"M 2.2 - 10km NW of Avenal, CA\",0,earthquake,\",geoserve,nearby-cities,origin,phase-data,scitech-link,\",-480.0,1539477547926,https://earthquake.usgs.gov/earthquakes/eventpage/nc73096941\n",
      "\n",
      "['alert', 'cdi', 'code', 'detail', 'dmin', 'felt', 'gap', 'ids', 'mag', 'magType', 'mmi', 'net', 'nst', 'place', 'rms', 'sig', 'sources', 'status', 'time', 'title', 'tsunami', 'type', 'types', 'tz', 'updated', 'url\\n']\n"
     ]
    }
   ],
   "source": [
    "putanja = \"earthquakes.csv\"\n",
    "datoteka = open(putanja)\n",
    "\n",
    "headeri = []\n",
    "\n",
    "for linija in datoteka:\n",
    "    headeri = linija.split(\",\")\n",
    "    break\n",
    "\n",
    "brojac_linija = 0\n",
    "\n",
    "def print_data(header_text, koliko_linija):\n",
    "    global headeri\n",
    "    index = headeri.index(header_text)\n",
    "    \n",
    "    for linija in datoteka:    \n",
    "        linija.split(\",\")\n",
    "        brojac_linija +=1\n",
    "        print(linija[index])\n",
    "        if brojac_linija ==koliko_linija:\n",
    "            break\n",
    "    \n",
    "datoteka.close()\n",
    "print(headeri)"
   ]
  },
  {
   "cell_type": "code",
   "execution_count": null,
   "id": "5774e453",
   "metadata": {},
   "outputs": [],
   "source": []
  }
 ],
 "metadata": {
  "kernelspec": {
   "display_name": "Python 3 (ipykernel)",
   "language": "python",
   "name": "python3"
  },
  "language_info": {
   "codemirror_mode": {
    "name": "ipython",
    "version": 3
   },
   "file_extension": ".py",
   "mimetype": "text/x-python",
   "name": "python",
   "nbconvert_exporter": "python",
   "pygments_lexer": "ipython3",
   "version": "3.11.4"
  }
 },
 "nbformat": 4,
 "nbformat_minor": 5
}
