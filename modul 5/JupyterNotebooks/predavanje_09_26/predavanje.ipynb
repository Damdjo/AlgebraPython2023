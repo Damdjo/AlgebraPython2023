{
 "cells": [
  {
   "cell_type": "markdown",
   "id": "60083573",
   "metadata": {},
   "source": [
    "# regex \n"
   ]
  },
  {
   "cell_type": "code",
   "execution_count": 8,
   "id": "b61c673e",
   "metadata": {},
   "outputs": [],
   "source": [
    "import re\n",
    "gradovi = ['   Zagreb ', 'Osijek!', 'Rijeka', 'rijeka', 'PUla', 'slavonski brod##', 'Nova gradiska?']\n",
    "\n",
    "\n",
    "def popravi_unos(lista):\n",
    "    rezultat = []\n",
    "    for element in lista:\n",
    "        print(element)\n",
    "        element = element.strip()\n",
    "        print(element)\n",
    "        element = re.sub(\"[!#?]\", \"\",element)\n",
    "        print(element)\n",
    "        element = element.title()\n",
    "        print(element,\"\\n\")\n",
    "        rezultat.append(element)\n",
    "        \n",
    "    return rezultat\n",
    "\n",
    "\n",
    "#popravi_unos(gradovi)"
   ]
  },
  {
   "cell_type": "markdown",
   "id": "3b3d5563",
   "metadata": {},
   "source": [
    "Napravite listu operacija koje želite omogućiti administratoru tijekom čišćenja unosa od korisnika te pomoću više funkcija (onoliko koliko mislite da je potrebno) omogućite istu funkcionalnost kao u prethodnom primjeru. "
   ]
  },
  {
   "cell_type": "code",
   "execution_count": 36,
   "id": "4a9f186e",
   "metadata": {},
   "outputs": [
    {
     "name": "stdout",
     "output_type": "stream",
     "text": [
      "Zagreb \n",
      "Osijek\n",
      "Rijeka a\n",
      "rijeka\n",
      "PUla\n",
      "slavonski brod\n",
      "Nova gradiska\n"
     ]
    }
   ],
   "source": [
    "operacije = [\"remove_symbols\",]\n",
    "\n",
    "gradovi = ['   Zagreb ', ' Osijek!', 'Rijeka !!a', 'rijeka', 'PUla', 'slavonski brod##', 'Nova gradiska?']\n",
    "def remove_symbols(string):\n",
    "    word = \"\"\n",
    "    \n",
    "    string = list(string)\n",
    "    \n",
    "    leading_space = True\n",
    "    ending_space = True\n",
    "    for index, char in enumerate(string):\n",
    "        match char.lower():\n",
    "            case \" \" if leading_space:\n",
    "                string[index] = \"\"\n",
    "                \n",
    "            case \" \" | \"a\" | \"b\" | \"c\" | \"d\" | \"e\" | \"f\" | \"g\" | \"h\" | \"i\" | \"j\" | \"k\" | \"l\" | \"m\" | \"n\" | \"o\" | \"p\" | \"q\" | \"r\" | \"s\" | \"t\" | \"u\" | \"v\" | \"w\" | \"x\" | \"y\" | \"z\":\n",
    "                word += char\n",
    "                leading_space = False\n",
    "            case _ if char != \" \":\n",
    "                #string[index] = \"\"\n",
    "                pass\n",
    "       \n",
    "    return str(word)\n",
    "                \n",
    "                \n",
    "            \n",
    "    \n",
    "for grad in gradovi:\n",
    "    print(remove_symbols(grad))"
   ]
  },
  {
   "cell_type": "code",
   "execution_count": 55,
   "id": "47eff686",
   "metadata": {},
   "outputs": [
    {
     "name": "stdout",
     "output_type": "stream",
     "text": [
      "#16e950\n",
      "(22, 233, 80)\n"
     ]
    }
   ],
   "source": [
    "#regex koji provjerava može li uneseno biti hexadekadski broj ili ne\n",
    "\n",
    "import re\n",
    "\n",
    "\n",
    "def check_hex(string):\n",
    "    if re.match(\"^[#][0-9a-fA-F]{6}$\", string):\n",
    "        print(string)\n",
    "        r = int(string[1:3],16)\n",
    "        g = int(string[3:5],16)\n",
    "        b = int(string[5:7],16)\n",
    "        print((r,g,b))\n",
    "    else:\n",
    "        print(\"not hex\")\n",
    "        \n",
    "check_hex(\"#16e950\")"
   ]
  },
  {
   "cell_type": "markdown",
   "id": "055ebdf4",
   "metadata": {},
   "source": [
    "# LAMBDA"
   ]
  },
  {
   "cell_type": "code",
   "execution_count": 61,
   "id": "52aecb51",
   "metadata": {},
   "outputs": [
    {
     "data": {
      "text/plain": [
       "11"
      ]
     },
     "execution_count": 61,
     "metadata": {},
     "output_type": "execute_result"
    }
   ],
   "source": [
    "def naziv_funkcije(arg1, arg2):\n",
    "    return (arg1*arg2)+3\n",
    "\n",
    "naziv_funkcije(2,3)\n",
    "\n",
    "x = lambda arg1,arg2: (arg1*arg2)+3\n",
    "\n",
    "x(2,4)"
   ]
  },
  {
   "cell_type": "code",
   "execution_count": 63,
   "id": "cfb1180b",
   "metadata": {},
   "outputs": [
    {
     "name": "stdout",
     "output_type": "stream",
     "text": [
      "[25.6, 25.9, 26.3, 26.8, 27.1, 27.3, 27.5, 27.8, 27.2, 26.8, 26.3, 26.1, 25.5]\n"
     ]
    }
   ],
   "source": [
    "dnevne_temperature = [15.1, 15.2, 15.6, 16.1, 16.8, 17.3, 17.3, 17.9, 18.3, 19.1, 20.3, 20.5, 20.8, \n",
    "                      21.2, 21.8, 22.3, 23.1, 24.5, 25.6, 25.9, 26.3, 26.8, 27.1, 27.3, 27.5, 27.8, \n",
    "                      27.2, 26.8, 26.3, 26.1, 25.5, 24.6, 23.9, 23.3, 22.8, 22.1, 21.3, 20.5, 19.8,\n",
    "                      19.5, 19.1, 18.6, 18.1, 17.6, 16.8, 16.3, 15.9, 15.4, 15.2, 14.9, 14.6, 14.1] \n",
    "\n",
    "dtv25 = list(filter(lambda temperatura: (temperatura>25.0),dnevne_temperature))\n",
    "\n",
    "print(dtv25)"
   ]
  },
  {
   "cell_type": "code",
   "execution_count": 64,
   "id": "5a4ac1b6",
   "metadata": {},
   "outputs": [
    {
     "data": {
      "text/plain": [
       "'Mate Matic'"
      ]
     },
     "execution_count": 64,
     "metadata": {},
     "output_type": "execute_result"
    }
   ],
   "source": [
    "puno_ime = lambda ime, prezime: f\"{ime.title()} {prezime.title()}\"\n",
    "\n",
    "puno_ime(\"mate\", \"MATIC\")"
   ]
  },
  {
   "cell_type": "code",
   "execution_count": 75,
   "id": "0756dd1a",
   "metadata": {},
   "outputs": [
    {
     "name": "stdout",
     "output_type": "stream",
     "text": [
      "[78.08, 78.62, 79.34, 80.24, 80.78, 81.14, 81.5, 82.04, 80.96, 80.24, 79.34, 78.98, 77.9]\n"
     ]
    }
   ],
   "source": [
    "dtv25f = list(map(lambda temperatura: round((temperatura * 9/5) + 32, 2), dtv25))\n",
    "\n",
    "print(dtv25f)"
   ]
  },
  {
   "cell_type": "code",
   "execution_count": 77,
   "id": "d17a9873",
   "metadata": {},
   "outputs": [],
   "source": [
    "#print(5/0)"
   ]
  },
  {
   "cell_type": "code",
   "execution_count": 83,
   "id": "0f7ad9bb",
   "metadata": {},
   "outputs": [
    {
     "data": {
      "text/plain": [
       "1.25"
      ]
     },
     "execution_count": 83,
     "metadata": {},
     "output_type": "execute_result"
    }
   ],
   "source": [
    "def dijeljenje(x,y):\n",
    "    try:\n",
    "        return x/y\n",
    "    except ZeroDivisionError:\n",
    "        return \"Nije moguće dijeliti sa 0\"\n",
    "    \n",
    "    \n",
    "dijeljenje(10,8)"
   ]
  },
  {
   "cell_type": "markdown",
   "id": "947a2910",
   "metadata": {},
   "source": [
    "# KLASE"
   ]
  },
  {
   "cell_type": "code",
   "execution_count": 86,
   "id": "667375f5",
   "metadata": {},
   "outputs": [
    {
     "name": "stdout",
     "output_type": "stream",
     "text": [
      "2000.0\n",
      "240.0\n",
      "Mate Matic\n"
     ]
    }
   ],
   "source": [
    "class Djelatnik:\n",
    "    def __init__(self, placa, ime, prezime):\n",
    "        self.placa = 2000.0\n",
    "        self.ime = ime\n",
    "        self.prezime = prezime\n",
    "        self.prirez = 0.0\n",
    "    def izracunaj_prirez(self, iznos_prireza):\n",
    "        self.prirez = self.placa*iznos_prireza\n",
    "        \n",
    "programer = Djelatnik(1000.0, \"Mate\", \"Matic\")\n",
    "print(programer.placa)\n",
    "\n",
    "programer.izracunaj_prirez(0.12)\n",
    "print(programer.prirez)\n",
    "\n",
    "print(programer.ime, programer.prezime)"
   ]
  },
  {
   "cell_type": "code",
   "execution_count": 147,
   "id": "220db9f4",
   "metadata": {},
   "outputs": [
    {
     "name": "stdout",
     "output_type": "stream",
     "text": [
      "['alert', 'cdi', 'code', 'detail', 'dmin', 'felt', 'gap', 'ids', 'mag', 'magType', 'mmi', 'net', 'nst', 'place', 'rms', 'sig', 'sources', 'status', 'time', 'title', 'tsunami', 'type', 'types', 'tz', 'updated', 'url\\n']\n",
      "\"M 1.4 - 9km NE of Aguanga\n",
      "\"M 1.3 - 9km NE of Aguanga\n",
      "\"M 3.4 - 8km NE of Aguanga\n",
      "\"M 0.4 - 9km NE of Aguanga\n",
      "\"M 2.2 - 10km NW of Avenal\n",
      "\"M 2.6 - 55km ESE of Punta Cana\n",
      "\"M 1.7 - 105km W of Talkeetna\n",
      "\"M 1.1 - 10km NW of Parkfield\n",
      "\"M 0.9 - 6km NW of The Geysers\n",
      "\"M 4.7 - 219km SSE of Saparua\n",
      "\"M 0.5 - 10km NE of Aguanga\n",
      "\"M 2.8 - 53km SE of Punta Cana\n",
      "\"M 0.5 - 9km NE of Aguanga\n",
      "\"M 4.5 - 120km SSW of Banda Aceh\n",
      "\"M 2.1 - 14km NW of Parkfield\n",
      "\"M 2.0 - 156km WNW of Haines Junction\n",
      "\"M 0.7 - 2km N of The Geysers\n",
      "\"M 1.7 - 2km S of Maricao\n",
      "\"M 2.0 - 57km SSW of Kaktovik\n",
      "\"M 0.9 - 4km ENE of Calimesa\n"
     ]
    }
   ],
   "source": [
    "putanja = \"earthquakes.csv\"\n",
    "datoteka = open(putanja)\n",
    "\n",
    "\n",
    "headeri = []\n",
    "for linija in datoteka:\n",
    "    headeri = linija.split(\",\")\n",
    "    break\n",
    "\n",
    "\n",
    "brojac_linija = 0\n",
    "\n",
    "def print_data(header_text, koliko_linija=20):\n",
    "    global headeri, brojac_linija\n",
    "    \n",
    "    \n",
    "    index = headeri.index(header_text)\n",
    "    \n",
    "    for linija in datoteka:    \n",
    "        splitano = linija.split(\",\")\n",
    "        brojac_linija +=1\n",
    "        print(splitano[index])\n",
    "        if brojac_linija ==koliko_linija:\n",
    "            break\n",
    "    \n",
    "\n",
    "print(headeri)\n",
    "print_data(\"updated\")\n",
    "\n",
    "datoteka.close()"
   ]
  },
  {
   "cell_type": "code",
   "execution_count": null,
   "id": "8f0cb207",
   "metadata": {},
   "outputs": [],
   "source": []
  }
 ],
 "metadata": {
  "kernelspec": {
   "display_name": "Python 3 (ipykernel)",
   "language": "python",
   "name": "python3"
  },
  "language_info": {
   "codemirror_mode": {
    "name": "ipython",
    "version": 3
   },
   "file_extension": ".py",
   "mimetype": "text/x-python",
   "name": "python",
   "nbconvert_exporter": "python",
   "pygments_lexer": "ipython3",
   "version": "3.11.4"
  }
 },
 "nbformat": 4,
 "nbformat_minor": 5
}
