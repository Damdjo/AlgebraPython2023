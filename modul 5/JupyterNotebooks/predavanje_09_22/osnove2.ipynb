{
 "cells": [
  {
   "cell_type": "code",
   "execution_count": 69,
   "id": "beb16c72",
   "metadata": {},
   "outputs": [
    {
     "data": {
      "text/plain": [
       "[(3, 10), (8, 6)]"
      ]
     },
     "execution_count": 69,
     "metadata": {},
     "output_type": "execute_result"
    }
   ],
   "source": [
    "import random\n",
    "\n",
    "def throw_die(no_die_sides:int=6, no_throws:int=1, no_dies:int=1):\n",
    "    total = []\n",
    "    for throw in range(no_throws):\n",
    "        throws_list = []\n",
    "        for kockica in range(no_dies):\n",
    "            roll = random.randint(1,no_die_sides)\n",
    "            throws_list.append(roll)\n",
    "        total.append(tuple(throws_list))\n",
    "    return total\n",
    "kockica = baci(20,2,2)\n",
    "kockica"
   ]
  },
  {
   "cell_type": "code",
   "execution_count": 114,
   "id": "0150ba4a",
   "metadata": {},
   "outputs": [
    {
     "name": "stdout",
     "output_type": "stream",
     "text": [
      "5 throws, 1 die\n",
      "[(6,), (3,), (2,), (1,), (4,)] \n",
      "\n",
      "2 throws, 4 dies\n",
      "[(1, 3, 6, 6), (3, 3, 6, 2)] \n",
      "\n",
      "5 throws, 10 die sides, 6 dies\n",
      "[(7, 9, 9, 6, 1, 5), (3, 3, 9, 8, 10, 3), (1, 7, 2, 8, 8, 2), (4, 3, 6, 8, 10, 5), (6, 9, 1, 6, 5, 6)] \n",
      "\n",
      "\n",
      "    Number 1:\n",
      "        Rolls: 1001023\n",
      "        Percentage: 16.7\n",
      "        Deviation: 0.10229999999999961\n",
      "\n",
      "    Number 2:\n",
      "        Rolls: 998176\n",
      "        Percentage: 16.6\n",
      "        Deviation: 0.8175999999999988\n",
      "\n",
      "    Number 3:\n",
      "        Rolls: 999614\n",
      "        Percentage: 16.7\n",
      "        Deviation: 0.9613999999999976\n",
      "\n",
      "    Number 4:\n",
      "        Rolls: 1000532\n",
      "        Percentage: 16.7\n",
      "        Deviation: 0.05320000000000391\n",
      "\n",
      "    Number 5:\n",
      "        Rolls: 1002101\n",
      "        Percentage: 16.7\n",
      "        Deviation: 0.21009999999999707\n",
      "\n",
      "    Number 6:\n",
      "        Rolls: 998554\n",
      "        Percentage: 16.6\n",
      "        Deviation: 0.855400000000003\n"
     ]
    }
   ],
   "source": [
    "print(\"5 throws, 1 die\")\n",
    "print(baci(no_throws=5),\"\\n\")\n",
    "\n",
    "print(\"2 throws, 4 dies\")\n",
    "print(baci(no_throws=2, no_dies=4),\"\\n\")\n",
    "\n",
    "print(\"5 throws, 10 die sides, 6 dies\")\n",
    "print(baci(10,5,6),\"\\n\")\n",
    "\n",
    "\n",
    "\n",
    "def count_die_disposition(no_throws, no_die_sides):\n",
    "    dispo_list = []\n",
    "    for num in range(no_die_sides):\n",
    "        dispo_list.append(0)\n",
    "        \n",
    "    all_throws = throw_die(no_die_sides, no_throws, 1)\n",
    "    for tuple_throws in all_throws:\n",
    "        for die in tuple_throws:\n",
    "            dispo_list[die-1]+=1\n",
    "    percent_list = []\n",
    "    deviation_list = []\n",
    "    for num in dispo_list:\n",
    "        percent = num/no_throws*100\n",
    "        percent_list.append(percent)\n",
    "        deviation = num/10000%1 #vjerovatno nije dobra formula\n",
    "        deviation_list.append(deviation)\n",
    "    return dispo_list, percent_list, deviation_list\n",
    "        \n",
    "    \n",
    "test = count_die_disposition(6000000, 6)\n",
    "for index, die in enumerate(test[0]):\n",
    "    print(f\"\"\"\n",
    "    Number {index+1}:\n",
    "        Rolls: {test[0][index]}\n",
    "        Percentage: {round(test[1][index],1)}\n",
    "        Deviation: {test[2][index]}\"\"\")\n"
   ]
  }
 ],
 "metadata": {
  "kernelspec": {
   "display_name": "Python 3 (ipykernel)",
   "language": "python",
   "name": "python3"
  },
  "language_info": {
   "codemirror_mode": {
    "name": "ipython",
    "version": 3
   },
   "file_extension": ".py",
   "mimetype": "text/x-python",
   "name": "python",
   "nbconvert_exporter": "python",
   "pygments_lexer": "ipython3",
   "version": "3.11.4"
  }
 },
 "nbformat": 4,
 "nbformat_minor": 5
}
