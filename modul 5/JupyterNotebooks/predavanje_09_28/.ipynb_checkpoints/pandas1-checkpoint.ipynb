{
 "cells": [
  {
   "cell_type": "code",
   "execution_count": null,
   "id": "e1447374",
   "metadata": {},
   "outputs": [],
   "source": [
    "lista = [[0,0],[3,2],[4,5]]\n",
    "\n",
    "print(lista[2][0])"
   ]
  },
  {
   "cell_type": "code",
   "execution_count": 1,
   "id": "35e4ac62",
   "metadata": {},
   "outputs": [],
   "source": [
    "import pandas as pd"
   ]
  },
  {
   "cell_type": "code",
   "execution_count": 2,
   "id": "0bc16224",
   "metadata": {},
   "outputs": [],
   "source": [
    "#os 0 - stupci\n",
    "#os 1 - retci\n",
    "\n",
    "data = {\n",
    "    \"Kolona 1\": [\"K1_Podatak1\", \"K1_Podatak2\", \"K1_Podatak3\", \"K1_Podatak4\", \"K1_Podatak5\" ],\n",
    "    \"Kolona 2\": [\"K2_Podatak1\", \"K2_Podatak2\", \"K2_Podatak3\", \"K2_Podatak4\", \"K2_Podatak5\" ],\n",
    "    \"Kolona 3\": [\"K3_Podatak1\", \"K3_Podatak2\", \"K3_Podatak3\", \"K3_Podatak4\", \"K3_Podatak5\" ],\n",
    "    \"Kolona 4\": [\"K4_Podatak1\", \"K4_Podatak2\", \"K4_Podatak3\", \"K4_Podatak4\", \"K4_Podatak5\" ],\n",
    "    \"Kolona 5\": [\"K4_Podatak1\", \"K5_Podatak2\", \"K5_Podatak3\", \"K5_Podatak4\", \"K5_Podatak5\" ]    \n",
    "}\n",
    "\n"
   ]
  },
  {
   "cell_type": "code",
   "execution_count": 3,
   "id": "d673aa74",
   "metadata": {},
   "outputs": [
    {
     "data": {
      "text/plain": [
       "0    K3_Podatak1\n",
       "1    K3_Podatak2\n",
       "2    K3_Podatak3\n",
       "3    K3_Podatak4\n",
       "4    K3_Podatak5\n",
       "Name: Kolona 3, dtype: object"
      ]
     },
     "execution_count": 3,
     "metadata": {},
     "output_type": "execute_result"
    }
   ],
   "source": [
    "# data_frame == df\n",
    "df = pd.DataFrame(data)\n",
    "df[\"Kolona 3\"]"
   ]
  },
  {
   "cell_type": "code",
   "execution_count": 4,
   "id": "0a08d062",
   "metadata": {},
   "outputs": [
    {
     "data": {
      "text/plain": [
       "0    5\n",
       "1    8\n",
       "2    2\n",
       "3    6\n",
       "4    5\n",
       "5    4\n",
       "6    9\n",
       "Name: Serija, dtype: int64"
      ]
     },
     "execution_count": 4,
     "metadata": {},
     "output_type": "execute_result"
    }
   ],
   "source": [
    "serija = pd.Series([5,8,2,6,5,4,9], name = \"Serija\")\n",
    "serija"
   ]
  },
  {
   "cell_type": "code",
   "execution_count": null,
   "id": "e21905ef",
   "metadata": {},
   "outputs": [],
   "source": [
    "# string, decimalni broj, boolean, python liste"
   ]
  },
  {
   "cell_type": "code",
   "execution_count": 8,
   "id": "be7c7ddb",
   "metadata": {},
   "outputs": [
    {
     "data": {
      "text/plain": [
       "0       PET\n",
       "1      OSAM\n",
       "2       DVA\n",
       "3      ŠEST\n",
       "4       PET\n",
       "5    ČETIRI\n",
       "6     DEVET\n",
       "Name: Serija str, dtype: object"
      ]
     },
     "execution_count": 8,
     "metadata": {},
     "output_type": "execute_result"
    }
   ],
   "source": [
    "#string\n",
    "serija_str = pd.Series([\"PET\",\"OSAM\",\"DVA\",\"ŠEST\",\"PET\",\"ČETIRI\",\"DEVET\"], name = \"Serija str\")\n",
    "serija_str"
   ]
  },
  {
   "cell_type": "code",
   "execution_count": 7,
   "id": "5026c522",
   "metadata": {},
   "outputs": [
    {
     "data": {
      "text/plain": [
       "0    5.1\n",
       "1    8.2\n",
       "2    2.3\n",
       "3    6.4\n",
       "4    5.5\n",
       "5    4.6\n",
       "6    9.7\n",
       "Name: Serija float, dtype: float64"
      ]
     },
     "execution_count": 7,
     "metadata": {},
     "output_type": "execute_result"
    }
   ],
   "source": [
    "#float\n",
    "serija_float = pd.Series([5.1,8.2,2.3,6.4,5.5,4.6,9.7], name = \"Serija float\")\n",
    "serija_float"
   ]
  },
  {
   "cell_type": "code",
   "execution_count": 6,
   "id": "fa0478ca",
   "metadata": {},
   "outputs": [
    {
     "data": {
      "text/plain": [
       "0     True\n",
       "1    False\n",
       "2    False\n",
       "3     True\n",
       "4    False\n",
       "5     True\n",
       "6     True\n",
       "Name: Serija bool, dtype: bool"
      ]
     },
     "execution_count": 6,
     "metadata": {},
     "output_type": "execute_result"
    }
   ],
   "source": [
    "#bool\n",
    "serija_bool = pd.Series([True,False,False,True,False,True,True], name = \"Serija bool\")\n",
    "serija_bool"
   ]
  },
  {
   "cell_type": "code",
   "execution_count": 5,
   "id": "4026eefb",
   "metadata": {},
   "outputs": [
    {
     "data": {
      "text/plain": [
       "0         [5, 8, 2, 6, 5, 4, 9]\n",
       "1        [PET, OSAM, DVA, ŠEST]\n",
       "2               [5.1, 8.2, 2.3]\n",
       "3    [True, False, False, True]\n",
       "Name: Serija list, dtype: object"
      ]
     },
     "execution_count": 5,
     "metadata": {},
     "output_type": "execute_result"
    }
   ],
   "source": [
    "#list\n",
    "serija_list = pd.Series([[5,8,2,6,5,4,9],[\"PET\",\"OSAM\",\"DVA\",\"ŠEST\"],[5.1,8.2,2.3],[True,False,False,True]],\n",
    "                        name = \"Serija list\")\n",
    "serija_list"
   ]
  },
  {
   "cell_type": "code",
   "execution_count": 10,
   "id": "631c144c",
   "metadata": {},
   "outputs": [
    {
     "data": {
      "text/plain": [
       "a    5\n",
       "b    8\n",
       "c    2\n",
       "d    6\n",
       "dtype: int64"
      ]
     },
     "execution_count": 10,
     "metadata": {},
     "output_type": "execute_result"
    }
   ],
   "source": [
    "serija_indexi = pd.Series([5,8,2,6], index = [\"a\",\"b\",\"c\",\"d\"])\n",
    "serija_indexi"
   ]
  },
  {
   "cell_type": "code",
   "execution_count": 13,
   "id": "7969ad10",
   "metadata": {},
   "outputs": [
    {
     "data": {
      "text/plain": [
       "0     5\n",
       "1     8\n",
       "2     2\n",
       "3     6\n",
       "4     5\n",
       "5     4\n",
       "6     9\n",
       "7     7\n",
       "8     1\n",
       "9     3\n",
       "10    5\n",
       "11    3\n",
       "12    4\n",
       "13    8\n",
       "14    9\n",
       "15    8\n",
       "16    2\n",
       "17    3\n",
       "18    5\n",
       "19    2\n",
       "Name: Oznaka, dtype: int64"
      ]
     },
     "execution_count": 13,
     "metadata": {},
     "output_type": "execute_result"
    }
   ],
   "source": [
    "serija = pd.Series([5, 8, 2, 6, 5, 4, 9, 7, 1, 3, 5, 3, 4, 8, 9, 8, 2, 3, 5, 2], name = \"Oznaka\" )\n",
    "serija"
   ]
  },
  {
   "cell_type": "code",
   "execution_count": 18,
   "id": "3b635e5c",
   "metadata": {},
   "outputs": [
    {
     "data": {
      "text/plain": [
       "4    5\n",
       "6    9\n",
       "Name: Oznaka, dtype: int64"
      ]
     },
     "execution_count": 18,
     "metadata": {},
     "output_type": "execute_result"
    }
   ],
   "source": [
    "serija[4:7:2]"
   ]
  },
  {
   "cell_type": "code",
   "execution_count": 20,
   "id": "da3752d1",
   "metadata": {},
   "outputs": [
    {
     "data": {
      "text/plain": [
       "3    6\n",
       "6    9\n",
       "Name: Oznaka, dtype: int64"
      ]
     },
     "execution_count": 20,
     "metadata": {},
     "output_type": "execute_result"
    }
   ],
   "source": [
    "serija[3:8:3]"
   ]
  },
  {
   "cell_type": "code",
   "execution_count": 22,
   "id": "2375bb00",
   "metadata": {},
   "outputs": [
    {
     "data": {
      "text/plain": [
       "2    2\n",
       "5    4\n",
       "Name: Oznaka, dtype: int64"
      ]
     },
     "execution_count": 22,
     "metadata": {},
     "output_type": "execute_result"
    }
   ],
   "source": [
    "podskup = serija[2:8:3]\n",
    "podskup"
   ]
  },
  {
   "cell_type": "code",
   "execution_count": 26,
   "id": "fd94c29c",
   "metadata": {},
   "outputs": [
    {
     "data": {
      "text/plain": [
       "2    2\n",
       "5    4\n",
       "Name: Podskup, dtype: int64"
      ]
     },
     "execution_count": 26,
     "metadata": {},
     "output_type": "execute_result"
    }
   ],
   "source": [
    "podskup = pd.Series(serija[2:8:3], name = \"Podskup\", copy = True)\n",
    "podskup"
   ]
  },
  {
   "cell_type": "code",
   "execution_count": 28,
   "id": "d3521ef5",
   "metadata": {},
   "outputs": [
    {
     "data": {
      "text/plain": [
       "2"
      ]
     },
     "execution_count": 28,
     "metadata": {},
     "output_type": "execute_result"
    }
   ],
   "source": [
    "podskup[2]"
   ]
  },
  {
   "cell_type": "code",
   "execution_count": 35,
   "id": "9f562045",
   "metadata": {},
   "outputs": [
    {
     "data": {
      "text/html": [
       "<div>\n",
       "<style scoped>\n",
       "    .dataframe tbody tr th:only-of-type {\n",
       "        vertical-align: middle;\n",
       "    }\n",
       "\n",
       "    .dataframe tbody tr th {\n",
       "        vertical-align: top;\n",
       "    }\n",
       "\n",
       "    .dataframe thead th {\n",
       "        text-align: right;\n",
       "    }\n",
       "</style>\n",
       "<table border=\"1\" class=\"dataframe\">\n",
       "  <thead>\n",
       "    <tr style=\"text-align: right;\">\n",
       "      <th></th>\n",
       "      <th>index</th>\n",
       "      <th>Podskup</th>\n",
       "    </tr>\n",
       "  </thead>\n",
       "  <tbody>\n",
       "    <tr>\n",
       "      <th>0</th>\n",
       "      <td>2</td>\n",
       "      <td>2</td>\n",
       "    </tr>\n",
       "    <tr>\n",
       "      <th>1</th>\n",
       "      <td>5</td>\n",
       "      <td>4</td>\n",
       "    </tr>\n",
       "  </tbody>\n",
       "</table>\n",
       "</div>"
      ],
      "text/plain": [
       "   index  Podskup\n",
       "0      2        2\n",
       "1      5        4"
      ]
     },
     "execution_count": 35,
     "metadata": {},
     "output_type": "execute_result"
    }
   ],
   "source": [
    "podskup.reset_index()"
   ]
  },
  {
   "cell_type": "code",
   "execution_count": 41,
   "id": "294a675f",
   "metadata": {},
   "outputs": [
    {
     "data": {
      "text/plain": [
       "0    2\n",
       "1    4\n",
       "Name: Podskup, dtype: int64"
      ]
     },
     "execution_count": 41,
     "metadata": {},
     "output_type": "execute_result"
    }
   ],
   "source": [
    "podskup.reset_index(inplace=True, drop=True)\n",
    "podskup"
   ]
  },
  {
   "cell_type": "code",
   "execution_count": 45,
   "id": "7a458be6",
   "metadata": {},
   "outputs": [
    {
     "data": {
      "text/plain": [
       "0    Prvi element\n",
       "1               4\n",
       "Name: Podskup, dtype: object"
      ]
     },
     "execution_count": 45,
     "metadata": {},
     "output_type": "execute_result"
    }
   ],
   "source": [
    "podskup[0] = \"Prvi element\"\n",
    "podskup"
   ]
  },
  {
   "cell_type": "code",
   "execution_count": 47,
   "id": "8e4d4921",
   "metadata": {},
   "outputs": [
    {
     "data": {
      "text/plain": [
       "0     5\n",
       "1     8\n",
       "2     2\n",
       "3     6\n",
       "4     5\n",
       "5     4\n",
       "6     9\n",
       "7     7\n",
       "8     1\n",
       "9     3\n",
       "10    5\n",
       "11    3\n",
       "12    4\n",
       "13    8\n",
       "14    9\n",
       "15    8\n",
       "16    2\n",
       "17    3\n",
       "18    5\n",
       "19    2\n",
       "Name: Oznaka, dtype: int64"
      ]
     },
     "execution_count": 47,
     "metadata": {},
     "output_type": "execute_result"
    }
   ],
   "source": [
    "serija"
   ]
  },
  {
   "cell_type": "code",
   "execution_count": 52,
   "id": "bf375809",
   "metadata": {},
   "outputs": [
    {
     "data": {
      "text/plain": [
       "1     8\n",
       "6     9\n",
       "7     7\n",
       "13    8\n",
       "14    9\n",
       "15    8\n",
       "Name: Oznaka, dtype: int64"
      ]
     },
     "execution_count": 52,
     "metadata": {},
     "output_type": "execute_result"
    }
   ],
   "source": [
    "serija[serija>6]"
   ]
  },
  {
   "cell_type": "code",
   "execution_count": 54,
   "id": "9abaf9eb",
   "metadata": {},
   "outputs": [
    {
     "data": {
      "text/plain": [
       "0     0.05\n",
       "1     0.08\n",
       "2     0.02\n",
       "3     0.06\n",
       "4     0.05\n",
       "5     0.04\n",
       "6     0.09\n",
       "7     0.07\n",
       "8     0.01\n",
       "9     0.03\n",
       "10    0.05\n",
       "11    0.03\n",
       "12    0.04\n",
       "13    0.08\n",
       "14    0.09\n",
       "15    0.08\n",
       "16    0.02\n",
       "17    0.03\n",
       "18    0.05\n",
       "19    0.02\n",
       "Name: Oznaka, dtype: float64"
      ]
     },
     "execution_count": 54,
     "metadata": {},
     "output_type": "execute_result"
    }
   ],
   "source": [
    "serija/100"
   ]
  },
  {
   "cell_type": "code",
   "execution_count": 56,
   "id": "e51d47f3",
   "metadata": {},
   "outputs": [
    {
     "data": {
      "text/plain": [
       "array([5, 8, 2, 6, 4, 9, 7, 1, 3], dtype=int64)"
      ]
     },
     "execution_count": 56,
     "metadata": {},
     "output_type": "execute_result"
    }
   ],
   "source": [
    "serija.unique()"
   ]
  },
  {
   "cell_type": "code",
   "execution_count": 59,
   "id": "151923e6",
   "metadata": {},
   "outputs": [
    {
     "data": {
      "text/plain": [
       "6    1\n",
       "7    1\n",
       "1    1\n",
       "4    2\n",
       "9    2\n",
       "8    3\n",
       "2    3\n",
       "3    3\n",
       "5    4\n",
       "Name: Oznaka, dtype: int64"
      ]
     },
     "execution_count": 59,
     "metadata": {},
     "output_type": "execute_result"
    }
   ],
   "source": [
    "serija.value_counts().sort_values()"
   ]
  },
  {
   "cell_type": "code",
   "execution_count": 61,
   "id": "a63d3aa9",
   "metadata": {},
   "outputs": [
    {
     "data": {
      "text/plain": [
       "0      True\n",
       "1     False\n",
       "2     False\n",
       "3     False\n",
       "4      True\n",
       "5     False\n",
       "6      True\n",
       "7     False\n",
       "8     False\n",
       "9     False\n",
       "10     True\n",
       "11    False\n",
       "12    False\n",
       "13    False\n",
       "14     True\n",
       "15    False\n",
       "16    False\n",
       "17    False\n",
       "18     True\n",
       "19    False\n",
       "Name: Oznaka, dtype: bool"
      ]
     },
     "execution_count": 61,
     "metadata": {},
     "output_type": "execute_result"
    }
   ],
   "source": [
    "serija.isin([0,5,9])"
   ]
  },
  {
   "cell_type": "code",
   "execution_count": 63,
   "id": "629e873e",
   "metadata": {},
   "outputs": [
    {
     "data": {
      "text/plain": [
       "0     5\n",
       "4     5\n",
       "6     9\n",
       "10    5\n",
       "14    9\n",
       "18    5\n",
       "Name: Oznaka, dtype: int64"
      ]
     },
     "execution_count": 63,
     "metadata": {},
     "output_type": "execute_result"
    }
   ],
   "source": [
    "serija[serija.isin([0,5,9])]"
   ]
  },
  {
   "cell_type": "markdown",
   "id": "dbb3997f",
   "metadata": {},
   "source": [
    "Generirajte nasumičnih 100 brojeva te ih pohranite u Python listu. Od te liste kreirajte Pandas seriju te joj dajte nekakav naziv.\n",
    "\n",
    "Provjerite, koliko ima brojeva koji se ponavljaju te koliko se puta svaki od njih ponavlja?\n",
    "Koji je broj najveći, a koji najmanji?\n",
    "Modificirajte podatke u seriji tako da se svedu na postotke (neka budu u rasponu od 0 do 1).\n",
    "Promijenite vrijednosti najvećeg broja tako da je identična vrijednosti najmanjeg broja. Provjerite koji je sada najveći broj. "
   ]
  },
  {
   "cell_type": "code",
   "execution_count": 282,
   "id": "efd8d6fb",
   "metadata": {},
   "outputs": [
    {
     "name": "stdout",
     "output_type": "stream",
     "text": [
      "0\t8\n",
      "1\t22\n",
      "2\t28\n",
      "3\t19\n",
      "4\t3\n",
      "5\t13\n",
      "6\t29\n",
      "7\t28\n",
      "8\t19\n",
      "9\t26\n",
      "10\t1\n",
      "11\t8\n",
      "12\t21\n",
      "13\t1\n",
      "14\t5\n",
      "15\t22\n",
      "16\t18\n",
      "17\t22\n",
      "18\t24\n",
      "19\t16\n",
      "20\t16\n",
      "21\t1\n",
      "22\t22\n",
      "23\t6\n",
      "24\t18\n",
      "25\t17\n",
      "26\t25\n",
      "27\t22\n",
      "28\t9\n",
      "29\t24\n",
      "30\t5\n",
      "31\t28\n",
      "32\t25\n",
      "33\t6\n",
      "34\t7\n",
      "35\t26\n",
      "36\t29\n",
      "37\t23\n",
      "38\t24\n",
      "39\t17\n",
      "40\t8\n",
      "41\t25\n",
      "42\t26\n",
      "43\t13\n",
      "44\t2\n",
      "45\t29\n",
      "46\t21\n",
      "47\t21\n",
      "48\t2\n",
      "49\t3\n",
      "50\t7\n",
      "51\t3\n",
      "52\t11\n",
      "53\t26\n",
      "54\t14\n",
      "55\t24\n",
      "56\t6\n",
      "57\t3\n",
      "58\t15\n",
      "59\t24\n",
      "60\t6\n",
      "61\t29\n",
      "62\t14\n",
      "63\t22\n",
      "64\t6\n",
      "65\t11\n",
      "66\t3\n",
      "67\t6\n",
      "68\t28\n",
      "69\t22\n",
      "70\t23\n",
      "71\t17\n",
      "72\t25\n",
      "73\t4\n",
      "74\t26\n",
      "75\t27\n",
      "76\t24\n",
      "77\t30\n",
      "78\t5\n",
      "79\t15\n",
      "80\t26\n",
      "81\t10\n",
      "82\t3\n",
      "83\t8\n",
      "84\t17\n",
      "85\t14\n",
      "86\t2\n",
      "87\t4\n",
      "88\t8\n",
      "89\t17\n",
      "90\t23\n",
      "91\t12\n",
      "92\t25\n",
      "93\t6\n",
      "94\t25\n",
      "95\t16\n",
      "96\t24\n",
      "97\t14\n",
      "98\t16\n",
      "99\t5\n"
     ]
    }
   ],
   "source": [
    "import random\n",
    "import pandas as pd\n",
    "\n",
    "#generiranje\n",
    "\n",
    "broj_generiranih = 100\n",
    "\n",
    "random_brojevi = []\n",
    "for broj in range (broj_generiranih):\n",
    "    random_brojevi.append(random.randint(0,30))\n",
    "    \n",
    "random_brojevi = pd.Series(random_brojevi)\n",
    "\n",
    "\n",
    "for broj, pon in random_brojevi.items():\n",
    "    print(f\"{broj}\\t{pon}\",  end = \"\\n\")"
   ]
  },
  {
   "cell_type": "code",
   "execution_count": 284,
   "id": "4d9f6a28",
   "metadata": {},
   "outputs": [
    {
     "name": "stdout",
     "output_type": "stream",
     "text": [
      "Jedinstveni brojevi su:\n",
      "\n",
      "12\t1\n",
      "30\t1\n",
      "27\t1\n",
      "9\t1\n",
      "10\t1\n",
      "18\t2\n",
      "13\t2\n",
      "19\t2\n",
      "7\t2\n",
      "11\t2\n",
      "15\t2\n",
      "4\t2\n",
      "23\t3\n",
      "21\t3\n",
      "2\t3\n",
      "1\t3\n",
      "28\t4\n",
      "14\t4\n",
      "16\t4\n",
      "29\t4\n",
      "5\t4\n",
      "8\t5\n",
      "17\t5\n",
      "3\t6\n",
      "25\t6\n",
      "26\t6\n",
      "24\t7\n",
      "22\t7\n",
      "6\t7\n"
     ]
    }
   ],
   "source": [
    "#broj ponavnjanja\n",
    "pon_ran_brojevi = random_brojevi.value_counts().sort_values()\n",
    "pon_ran_brojevi\n",
    "print(\"Jedinstveni brojevi su:\\n\")\n",
    "for broj, pon in pon_ran_brojevi.items():\n",
    "    print(f\"{broj}\\t{pon}\",  end = \"\\n\")"
   ]
  },
  {
   "cell_type": "code",
   "execution_count": 287,
   "id": "5bb7ee43",
   "metadata": {},
   "outputs": [
    {
     "name": "stdout",
     "output_type": "stream",
     "text": [
      "Najveći broj je: 30\n",
      "Najmanji broj je: 1\n"
     ]
    }
   ],
   "source": [
    "#max\n",
    "max_ran_broj = random_brojevi.idxmax()\n",
    "print(f\"Najveći broj je: {random_brojevi[max_ran_broj]}\")\n",
    "\n",
    "\n",
    "#min\n",
    "min_ran_broj = random_brojevi.idxmin()\n",
    "print(f\"Najmanji broj je: {random_brojevi[min_ran_broj]}\")\n",
    "#min_ran_broj\n",
    "#max_ran_broj"
   ]
  },
  {
   "cell_type": "code",
   "execution_count": 289,
   "id": "e0c5dd85",
   "metadata": {},
   "outputs": [
    {
     "name": "stdout",
     "output_type": "stream",
     "text": [
      "1\t0.03\n",
      "2\t0.03\n",
      "3\t0.06\n",
      "4\t0.02\n",
      "5\t0.04\n",
      "6\t0.07\n",
      "7\t0.02\n",
      "8\t0.05\n",
      "9\t0.01\n",
      "10\t0.01\n",
      "11\t0.02\n",
      "12\t0.01\n",
      "13\t0.02\n",
      "14\t0.04\n",
      "15\t0.02\n",
      "16\t0.04\n",
      "17\t0.05\n",
      "18\t0.02\n",
      "19\t0.02\n",
      "21\t0.03\n",
      "22\t0.07\n",
      "23\t0.03\n",
      "24\t0.07\n",
      "25\t0.06\n",
      "26\t0.06\n",
      "27\t0.01\n",
      "28\t0.04\n",
      "29\t0.04\n",
      "30\t0.01\n"
     ]
    }
   ],
   "source": [
    "#postotci\n",
    "\n",
    "post_ran_brojevi = random_brojevi.value_counts().sort_index()/broj_generiranih\n",
    "for broj, post in post_ran_brojevi.items():\n",
    "    print(f\"{broj}\\t{post}\",  end = \"\\n\")"
   ]
  },
  {
   "cell_type": "code",
   "execution_count": 292,
   "id": "364d7a45",
   "metadata": {},
   "outputs": [
    {
     "name": "stdout",
     "output_type": "stream",
     "text": [
      "0\t8\n",
      "1\t22\n",
      "2\t28\n",
      "3\t19\n",
      "4\t3\n",
      "5\t13\n",
      "6\t29\n",
      "7\t28\n",
      "8\t19\n",
      "9\t26\n",
      "10\t1\n",
      "11\t8\n",
      "12\t21\n",
      "13\t1\n",
      "14\t5\n",
      "15\t22\n",
      "16\t18\n",
      "17\t22\n",
      "18\t24\n",
      "19\t16\n",
      "20\t16\n",
      "21\t1\n",
      "22\t22\n",
      "23\t6\n",
      "24\t18\n",
      "25\t17\n",
      "26\t25\n",
      "27\t22\n",
      "28\t9\n",
      "29\t24\n",
      "30\t5\n",
      "31\t28\n",
      "32\t25\n",
      "33\t6\n",
      "34\t7\n",
      "35\t26\n",
      "36\t29\n",
      "37\t23\n",
      "38\t24\n",
      "39\t17\n",
      "40\t8\n",
      "41\t25\n",
      "42\t26\n",
      "43\t13\n",
      "44\t2\n",
      "45\t29\n",
      "46\t21\n",
      "47\t21\n",
      "48\t2\n",
      "49\t3\n",
      "50\t7\n",
      "51\t3\n",
      "52\t11\n",
      "53\t26\n",
      "54\t14\n",
      "55\t24\n",
      "56\t6\n",
      "57\t3\n",
      "58\t15\n",
      "59\t24\n",
      "60\t6\n",
      "61\t29\n",
      "62\t14\n",
      "63\t22\n",
      "64\t6\n",
      "65\t11\n",
      "66\t3\n",
      "67\t6\n",
      "68\t28\n",
      "69\t22\n",
      "70\t23\n",
      "71\t17\n",
      "72\t25\n",
      "73\t4\n",
      "74\t26\n",
      "75\t27\n",
      "76\t24\n",
      "77\t1\n",
      "78\t5\n",
      "79\t15\n",
      "80\t26\n",
      "81\t10\n",
      "82\t3\n",
      "83\t8\n",
      "84\t17\n",
      "85\t14\n",
      "86\t2\n",
      "87\t4\n",
      "88\t8\n",
      "89\t17\n",
      "90\t23\n",
      "91\t12\n",
      "92\t25\n",
      "93\t6\n",
      "94\t25\n",
      "95\t16\n",
      "96\t24\n",
      "97\t14\n",
      "98\t16\n",
      "99\t5\n"
     ]
    }
   ],
   "source": [
    "# promjeni max\n",
    "#print(random_brojevi)\n",
    "#count_max = random_brojevi.value_counts()\n",
    "random_brojevi = random_brojevi.replace(random_brojevi[max_ran_broj],random_brojevi[min_ran_broj])\n",
    "\n",
    "for broj, post in random_brojevi.items():\n",
    "    print(f\"{broj}\\t{post}\",  end = \"\\n\")\n",
    "\n"
   ]
  },
  {
   "cell_type": "markdown",
   "id": "7c341ad7",
   "metadata": {},
   "source": [
    "Tekst za obradu:\n",
    "Lorem ipsum dolor sit amet, consectetur adipiscing elit, sed do eiusmod tempor incididunt ut labore et dolore magna aliqua. Ut enim ad minim veniam, quis nostrud exercitation ullamco laboris nisi ut aliquip ex ea commodo consequat. Duis aute irure dolor in reprehenderit in voluptate velit esse cillum dolore eu fugiat nulla pariatur. Excepteur sint occaecat cupidatat non proident, sunt in culpa qui officia deserunt mollit anim id est laborum.\n",
    "\n",
    "Obradite gore navedeni tekst tako da od njega kreirate listu riječi koje imaju sva mala slova i nemaju znakove interpunkcije. Od te liste kreirajte Pandas seriju te joj dajte nekakav naziv.\n",
    "\n",
    "Provjerite, koliko ima riječi koje se ponavljaju te koliko puta se svaka od njih ponavlja?\n",
    "Provjerite koja je najduža, a koja najkraća riječ. "
   ]
  },
  {
   "cell_type": "code",
   "execution_count": 301,
   "id": "014a8ec1",
   "metadata": {},
   "outputs": [
    {
     "name": "stdout",
     "output_type": "stream",
     "text": [
      "Najduža riječ: voluptate\n",
      "Najduža riječ: ad\n"
     ]
    }
   ],
   "source": [
    "text = \"\"\"Lorem ipsum dolor sit amet, consectetur adipiscing elit,\n",
    "sed do eiusmod tempor incididunt ut labore et dolore magna aliqua.\n",
    "Ut enim ad minim veniam, quis nostrud exercitation ullamco laboris nisi ut aliquip ex ea commodo consequat.\n",
    "Duis aute irure dolor in reprehenderit in voluptate velit esse cillum dolore eu fugiat nulla pariatur. \n",
    "Excepteur sint occaecat cupidatat non proident, sunt in culpa qui officia deserunt mollit anim id est laborum.\"\"\"\n",
    "\n",
    "text = text.replace(\",\", \"\")\n",
    "text = text.replace(\".\", \"\")\n",
    "text = text.replace(\"\\n\", \"\")\n",
    "text = text.lower()\n",
    "\n",
    "text_lista = text.split(\" \")\n",
    "\n",
    "serija_text = pd.Series(text_lista)\n",
    "\n",
    "serija_text.value_counts().sort_values()\n",
    "\n",
    "print(f\"Najduža riječ: {serija_text.max()}\")\n",
    "print(f\"Najkraća riječ: {serija_text.min()}\")\n",
    "\n",
    "\n",
    "\n",
    "\n",
    "\n",
    "\n",
    "\n",
    "\n"
   ]
  }
 ],
 "metadata": {
  "kernelspec": {
   "display_name": "Python 3 (ipykernel)",
   "language": "python",
   "name": "python3"
  },
  "language_info": {
   "codemirror_mode": {
    "name": "ipython",
    "version": 3
   },
   "file_extension": ".py",
   "mimetype": "text/x-python",
   "name": "python",
   "nbconvert_exporter": "python",
   "pygments_lexer": "ipython3",
   "version": "3.11.4"
  }
 },
 "nbformat": 4,
 "nbformat_minor": 5
}
