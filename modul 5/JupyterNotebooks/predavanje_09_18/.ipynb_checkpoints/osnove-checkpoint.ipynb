{
 "cells": [
  {
   "cell_type": "code",
   "execution_count": 1,
   "id": "ee14070a",
   "metadata": {},
   "outputs": [
    {
     "name": "stdout",
     "output_type": "stream",
     "text": [
      "Pozdrav iz Jupyter Notebooka\n"
     ]
    }
   ],
   "source": [
    "#možemo pisati komentare koji se neće izvesti\n",
    "\n",
    "print(\"Pozdrav iz Jupyter Notebooka\") #komentar\n",
    "a = 6"
   ]
  },
  {
   "cell_type": "code",
   "execution_count": 2,
   "id": "34472d47",
   "metadata": {
    "scrolled": false
   },
   "outputs": [
    {
     "name": "stdout",
     "output_type": "stream",
     "text": [
      "8\n",
      "6\n"
     ]
    }
   ],
   "source": [
    "print(a+2)\n",
    "match a:\n",
    "    case 6:\n",
    "        print(a)"
   ]
  },
  {
   "cell_type": "code",
   "execution_count": 3,
   "id": "af447da1",
   "metadata": {},
   "outputs": [
    {
     "data": {
      "text/plain": [
       "21.75"
      ]
     },
     "execution_count": 3,
     "metadata": {},
     "output_type": "execute_result"
    }
   ],
   "source": [
    "5*(12.7-4)/2"
   ]
  },
  {
   "cell_type": "code",
   "execution_count": 4,
   "id": "d3db3676",
   "metadata": {},
   "outputs": [
    {
     "name": "stdout",
     "output_type": "stream",
     "text": [
      "varijabla = 5 \t <class 'int'>\n",
      "varijabla = 'tekst' \t <class 'str'>\n"
     ]
    },
    {
     "data": {
      "text/plain": [
       "'tekst'"
      ]
     },
     "execution_count": 4,
     "metadata": {},
     "output_type": "execute_result"
    }
   ],
   "source": [
    "varijabla = 5\n",
    "print(\"varijabla = 5 \\t\", type(varijabla))\n",
    "\n",
    "varijabla = \"tekst\"\n",
    "print(\"varijabla = 'tekst' \\t\", type(varijabla))\n",
    "\n",
    "varijabla"
   ]
  },
  {
   "cell_type": "code",
   "execution_count": 5,
   "id": "57480da5",
   "metadata": {},
   "outputs": [],
   "source": [
    "a = [1,2,3]\n",
    "b = a[::]"
   ]
  },
  {
   "cell_type": "code",
   "execution_count": 6,
   "id": "5148a84b",
   "metadata": {},
   "outputs": [],
   "source": [
    "a.append(5)\n"
   ]
  },
  {
   "cell_type": "code",
   "execution_count": 7,
   "id": "2fd8413f",
   "metadata": {},
   "outputs": [
    {
     "name": "stdout",
     "output_type": "stream",
     "text": [
      "lista a: [1, 2, 3, 5]\n",
      "lista b: [1, 2, 3]\n"
     ]
    }
   ],
   "source": [
    "print(f\"lista a: {a}\")\n",
    "print(f\"lista b: {b}\")"
   ]
  },
  {
   "cell_type": "code",
   "execution_count": 8,
   "id": "8b2a8b76",
   "metadata": {},
   "outputs": [
    {
     "name": "stdout",
     "output_type": "stream",
     "text": [
      " Ovo je \"test\". He's 20\n",
      "c:\\\n",
      "Ime\tPrezime\tMob\n",
      "-------------------\n"
     ]
    }
   ],
   "source": [
    "print(\" Ovo je \\\"test\\\". He's 20\")\n",
    "print(\"c:\\\\\")\n",
    "print(\"Ime\\tPrezime\\tMob\\n-------------------\")\n"
   ]
  },
  {
   "cell_type": "code",
   "execution_count": 9,
   "id": "c4cb5ec7",
   "metadata": {},
   "outputs": [
    {
     "name": "stdout",
     "output_type": "stream",
     "text": [
      "\n",
      "Pišemo onako\n",
      "kako nam odgovara\n",
      "u više redova i s razmacima po\n",
      "želji\n",
      "\n"
     ]
    }
   ],
   "source": [
    "print(\"\"\"\n",
    "Pišemo onako\n",
    "kako nam odgovara\n",
    "u više redova i s razmacima po\n",
    "želji\n",
    "\"\"\")"
   ]
  },
  {
   "cell_type": "code",
   "execution_count": 10,
   "id": "cfa04268",
   "metadata": {},
   "outputs": [
    {
     "name": "stdout",
     "output_type": "stream",
     "text": [
      "Unesite vrijednost za v1: 1\n",
      "Unesite vrijednost za v2: 2\n",
      "Unesite vrijednost za v3: 3\n",
      "Unesite vrijednost za v1: 1\n",
      "Unesite vrijednost za v2: 2\n",
      "Unesite vrijednost za v3: 3\n"
     ]
    }
   ],
   "source": [
    "v1 = int(input(\"Unesite vrijednost za v1: \"))\n",
    "v2 = int(input(\"Unesite vrijednost za v2: \"))\n",
    "v3 = int(input(\"Unesite vrijednost za v3: \"))\n",
    "\n",
    "#int\n",
    "v1int = int(input(\"Unesite vrijednost za v1: \"))\n",
    "v2int = int(input(\"Unesite vrijednost za v2: \"))\n",
    "v3int = int(input(\"Unesite vrijednost za v3: \"))"
   ]
  },
  {
   "cell_type": "code",
   "execution_count": 11,
   "id": "d5155f47",
   "metadata": {},
   "outputs": [
    {
     "data": {
      "text/plain": [
       "'\\n\\nint() - pretvara tip podatka u dekadski broj\\nfloat() - pretvara cijeli broj u decimalni broj\\nord() - pretvara znak u ASCII broj\\nchr() - pretvara ASCII broj u znak\\nhex() - pretvara broj u heksadekadski broj\\noct() - pretvara dekadski broj u oktalni broj\\nstr() - pretvara bilo koji tip u tekstualni tip podatka\\ntuple() - pretvara dobiveni podatak u nterac (tuple)\\nset() - pretvara dobiveni podatak u set (listu koja IMA JEDINSTVENE članove - nema duplikata)\\nlist() - pretvara dobiveni podatak u listu\\ndict() - pretvara dobiveni podatak u rječnik.\\n\\n'"
      ]
     },
     "execution_count": 11,
     "metadata": {},
     "output_type": "execute_result"
    }
   ],
   "source": [
    "\"\"\"\n",
    "\n",
    "int() - pretvara tip podatka u dekadski broj\n",
    "float() - pretvara cijeli broj u decimalni broj\n",
    "ord() - pretvara znak u ASCII broj\n",
    "chr() - pretvara ASCII broj u znak\n",
    "hex() - pretvara broj u heksadekadski broj\n",
    "oct() - pretvara dekadski broj u oktalni broj\n",
    "str() - pretvara bilo koji tip u tekstualni tip podatka\n",
    "tuple() - pretvara dobiveni podatak u nterac (tuple)\n",
    "set() - pretvara dobiveni podatak u set (listu koja IMA JEDINSTVENE članove - nema duplikata)\n",
    "list() - pretvara dobiveni podatak u listu\n",
    "dict() - pretvara dobiveni podatak u rječnik.\n",
    "\n",
    "\"\"\""
   ]
  },
  {
   "cell_type": "code",
   "execution_count": 12,
   "id": "6128077f",
   "metadata": {},
   "outputs": [
    {
     "name": "stdout",
     "output_type": "stream",
     "text": [
      "int\n",
      "Unesite vrijednost za v1: 1\n",
      "Unesite vrijednost za v2: 2\n",
      "Unesite vrijednost za v3: 3\n",
      "1 \t\t 2 \t\t 3\n",
      "<class 'int'> \t <class 'int'> \t <class 'int'>\n"
     ]
    }
   ],
   "source": [
    "#int\n",
    "print(\"int\")\n",
    "v1int = int(input(\"Unesite vrijednost za v1: \"))\n",
    "v2int = int(input(\"Unesite vrijednost za v2: \"))\n",
    "v3int = int(input(\"Unesite vrijednost za v3: \"))\n",
    "\n",
    "print(v1int,\"\\t\\t\",v2int,\"\\t\\t\",v3int)\n",
    "print(type(v1int),\"\\t\",type(v2int),\"\\t\",type(v3int))"
   ]
  },
  {
   "cell_type": "code",
   "execution_count": 13,
   "id": "76be572c",
   "metadata": {},
   "outputs": [
    {
     "name": "stdout",
     "output_type": "stream",
     "text": [
      "#\n",
      "Unesite vrijednost za v1: 1\n",
      "Unesite vrijednost za v2: 2\n",
      "Unesite vrijednost za v3: 3\n",
      "1.0 \t\t 2.0 \t\t 3.0\n",
      "<class 'float'> \t <class 'float'> \t <class 'float'>\n"
     ]
    }
   ],
   "source": [
    "#float\n",
    "print(\"#\")\n",
    "v1float= float(input(\"Unesite vrijednost za v1: \"))\n",
    "v2float = float(input(\"Unesite vrijednost za v2: \"))\n",
    "v3float = float(input(\"Unesite vrijednost za v3: \"))\n",
    "\n",
    "print(v1float,\"\\t\\t\",v2float,\"\\t\\t\",v3float)\n",
    "print(type(v1float),\"\\t\",type(v2float),\"\\t\",type(v3float))"
   ]
  },
  {
   "cell_type": "code",
   "execution_count": 14,
   "id": "cb8329c4",
   "metadata": {
    "scrolled": true
   },
   "outputs": [
    {
     "name": "stdout",
     "output_type": "stream",
     "text": [
      "ord\n",
      "Unesite vrijednost za v1: 1\n",
      "Unesite vrijednost za v2: 2\n",
      "Unesite vrijednost za v3: 3\n",
      "49 \t\t 50 \t\t 51\n",
      "<class 'int'> \t <class 'int'> \t <class 'int'>\n"
     ]
    }
   ],
   "source": [
    "#ord\n",
    "print(\"ord\")\n",
    "v1ord= ord(input(\"Unesite vrijednost za v1: \"))\n",
    "v2ord = ord(input(\"Unesite vrijednost za v2: \"))\n",
    "v3ord = ord(input(\"Unesite vrijednost za v3: \"))\n",
    "\n",
    "print(v1ord,\"\\t\\t\",v2ord,\"\\t\\t\",v3ord)\n",
    "print(type(v1ord),\"\\t\",type(v2ord),\"\\t\",type(v3ord))"
   ]
  },
  {
   "cell_type": "code",
   "execution_count": 15,
   "id": "a08e14a2",
   "metadata": {},
   "outputs": [
    {
     "name": "stdout",
     "output_type": "stream",
     "text": [
      "chr\n",
      "Unesite vrijednost za v1: 1\n",
      "Unesite vrijednost za v2: 2\n",
      "Unesite vrijednost za v3: 3\n",
      "\u0001 \t\t \u0002 \t\t \u0003\n",
      "<class 'str'> \t <class 'str'> \t <class 'str'>\n"
     ]
    }
   ],
   "source": [
    "#chr\n",
    "print(\"chr\")\n",
    "v1chr= chr(int(input(\"Unesite vrijednost za v1: \")))\n",
    "v2chr = chr(int(input(\"Unesite vrijednost za v2: \")))\n",
    "v3chr = chr(int(input(\"Unesite vrijednost za v3: \")))\n",
    "\n",
    "print(v1chr,\"\\t\\t\",v2chr,\"\\t\\t\",v3chr)\n",
    "print(type(v1chr),\"\\t\",type(v2chr),\"\\t\",type(v3chr))"
   ]
  },
  {
   "cell_type": "code",
   "execution_count": 16,
   "id": "07f888e8",
   "metadata": {},
   "outputs": [
    {
     "name": "stdout",
     "output_type": "stream",
     "text": [
      "hex\n",
      "Unesite vrijednost za v1: 1\n",
      "Unesite vrijednost za v2: 2\n",
      "Unesite vrijednost za v3: 3\n",
      "0x1 \t\t 0x2 \t\t 0x3\n",
      "<class 'str'> \t <class 'str'> \t <class 'str'>\n"
     ]
    }
   ],
   "source": [
    "#hex\n",
    "print(\"hex\")\n",
    "v1hex= hex(int(input(\"Unesite vrijednost za v1: \")))\n",
    "v2hex = hex(int(input(\"Unesite vrijednost za v2: \")))\n",
    "v3hex = hex(int(input(\"Unesite vrijednost za v3: \")))\n",
    "\n",
    "print(v1hex,\"\\t\\t\",v2hex,\"\\t\\t\",v3hex)\n",
    "print(type(v1hex),\"\\t\",type(v2hex),\"\\t\",type(v3hex))"
   ]
  },
  {
   "cell_type": "code",
   "execution_count": 17,
   "id": "7b48c68d",
   "metadata": {},
   "outputs": [
    {
     "name": "stdout",
     "output_type": "stream",
     "text": [
      "str\n",
      "Unesite vrijednost za v1: 12\n",
      "Unesite vrijednost za v2: 2\n",
      "Unesite vrijednost za v3: 3\n",
      "12 \t\t 2 \t\t 3\n",
      "<class 'str'> \t <class 'str'> \t <class 'str'>\n"
     ]
    }
   ],
   "source": [
    "#str\n",
    "print(\"str\")\n",
    "v1str= input(\"Unesite vrijednost za v1: \")\n",
    "v2str = input(\"Unesite vrijednost za v2: \")\n",
    "v3str = input(\"Unesite vrijednost za v3: \")\n",
    "\n",
    "print(v1str,\"\\t\\t\",v2str,\"\\t\\t\",v3str)\n",
    "print(type(v1str),\"\\t\",type(v2str),\"\\t\",type(v3str))"
   ]
  },
  {
   "cell_type": "code",
   "execution_count": 18,
   "id": "51fa065e",
   "metadata": {},
   "outputs": [
    {
     "name": "stdout",
     "output_type": "stream",
     "text": [
      "tuple\n",
      "Unesite vrijednost za v1: 1\n",
      "Unesite vrijednost za v2: 2\n",
      "Unesite vrijednost za v3: 3\n",
      "('1', '2', '3')\n",
      "<class 'tuple'>\n"
     ]
    }
   ],
   "source": [
    "#tuple\n",
    "print(\"tuple\")\n",
    "v1tuple = input(\"Unesite vrijednost za v1: \")\n",
    "v2tuple = input(\"Unesite vrijednost za v2: \")\n",
    "v3tuple = input(\"Unesite vrijednost za v3: \")\n",
    "\n",
    "tuple = (v1tuple, v2tuple, v3tuple)\n",
    "print(tuple)\n",
    "print(type(tuple))"
   ]
  },
  {
   "cell_type": "code",
   "execution_count": 19,
   "id": "edf4618d",
   "metadata": {},
   "outputs": [
    {
     "name": "stdout",
     "output_type": "stream",
     "text": [
      "set\n",
      "Unesite vrijednost za v1: 1\n",
      "Unesite vrijednost za v2: 2\n",
      "Unesite vrijednost za v3: 3\n",
      "{'1', '2', '3'}\n",
      "<class 'set'>\n"
     ]
    }
   ],
   "source": [
    "#set\n",
    "print(\"set\")\n",
    "v1set = input(\"Unesite vrijednost za v1: \")\n",
    "v2set = input(\"Unesite vrijednost za v2: \")\n",
    "v3set = input(\"Unesite vrijednost za v3: \")\n",
    "\n",
    "list = [v1set, v2set, v3set]\n",
    "set = set(list)\n",
    "print(set)\n",
    "print(type(set))"
   ]
  },
  {
   "cell_type": "code",
   "execution_count": 20,
   "id": "fdce9918",
   "metadata": {},
   "outputs": [
    {
     "name": "stdout",
     "output_type": "stream",
     "text": [
      "list\n",
      "Unesite vrijednost za v1: 1\n",
      "Unesite vrijednost za v2: 2\n",
      "Unesite vrijednost za v3: 3\n",
      "['1', '2', '3']\n",
      "<class 'list'>\n"
     ]
    }
   ],
   "source": [
    "#list\n",
    "print(\"list\")\n",
    "v1list= input(\"Unesite vrijednost za v1: \")\n",
    "v2list = input(\"Unesite vrijednost za v2: \")\n",
    "v3list = input(\"Unesite vrijednost za v3: \")\n",
    "\n",
    "list = [v1list, v2list, v3list]\n",
    "print(list)\n",
    "print(type(list))"
   ]
  },
  {
   "cell_type": "code",
   "execution_count": 21,
   "id": "ae805673",
   "metadata": {},
   "outputs": [
    {
     "name": "stdout",
     "output_type": "stream",
     "text": [
      "dict\n",
      "Unesite vrijednost za v1: 1\n",
      "Unesite vrijednost za v2: 2\n",
      "Unesite vrijednost za v3: 3\n",
      "{'v1dict': '1', 'v2dict': '2', 'v3dict': '3'}\n",
      "<class 'dict'>\n"
     ]
    }
   ],
   "source": [
    "#dict\n",
    "print(\"dict\")\n",
    "v1dict= input(\"Unesite vrijednost za v1: \")\n",
    "v2dict = input(\"Unesite vrijednost za v2: \")\n",
    "v3dict = input(\"Unesite vrijednost za v3: \")\n",
    "\n",
    "dict = {\"v1dict\": v1dict, \"v2dict\": v2dict, \"v3dict\": v3dict}\n",
    "print(dict)\n",
    "print(type(dict))"
   ]
  },
  {
   "cell_type": "code",
   "execution_count": 23,
   "id": "5524a2b4",
   "metadata": {},
   "outputs": [],
   "source": [
    "dnevne_temperature = [15.1, 15.2, 15.6, 16.1, 16.8, 17.3, 17.3, 17.9, 18.3, 19.1, 20.3, 20.5, 20.8, \n",
    "                      21.2, 21.8, 22.3, 23.1, 24.5, 25.6, 25.9, 26.3, 26.8, 27.1, 27.3, 27.5, 27.8, \n",
    "                      27.2, 26.8, 26.3, 26.1, 25.5, 24.6, 23.9, 23.3, 22.8, 22.1, 21.3, 20.5, 19.8,\n",
    "                      19.5, 19.1, 18.6, 18.1, 17.6, 16.8, 16.3, 15.9, 15.4, 15.2, 14.9, 14.6, 14.1] "
   ]
  },
  {
   "cell_type": "code",
   "execution_count": 23,
   "id": "4b4451ba",
   "metadata": {},
   "outputs": [
    {
     "name": "stdout",
     "output_type": "stream",
     "text": [
      "Ime: Mate\n",
      "Prezime: Matić\n"
     ]
    }
   ],
   "source": [
    "lista = [\"Mate\", \"Matić\"]\n",
    "ime, prezime = lista\n",
    "print(f\"Ime: {ime}\")\n",
    "print(f\"Prezime: {prezime}\")\n"
   ]
  },
  {
   "cell_type": "code",
   "execution_count": 7,
   "id": "2f30105f",
   "metadata": {},
   "outputs": [
    {
     "data": {
      "text/plain": [
       "range(0, 10)"
      ]
     },
     "execution_count": 7,
     "metadata": {},
     "output_type": "execute_result"
    }
   ],
   "source": [
    "brojevi = range(10)\n",
    "brojevi"
   ]
  },
  {
   "cell_type": "code",
   "execution_count": 8,
   "id": "5da728d6",
   "metadata": {},
   "outputs": [],
   "source": [
    "brojevi = list(brojevi)\n"
   ]
  },
  {
   "cell_type": "code",
   "execution_count": 9,
   "id": "1e4de86f",
   "metadata": {},
   "outputs": [
    {
     "data": {
      "text/plain": [
       "[0, 1, 2, 3, 4, 5, 6, 7, 8, 9, 12]"
      ]
     },
     "execution_count": 9,
     "metadata": {},
     "output_type": "execute_result"
    }
   ],
   "source": [
    "brojevi.append(12)\n",
    "brojevi"
   ]
  },
  {
   "cell_type": "code",
   "execution_count": 10,
   "id": "787ed13b",
   "metadata": {},
   "outputs": [
    {
     "data": {
      "text/plain": [
       "[0, 1, 2, 3, 'test', 4, 5, 6, 7, 8, 9, 12]"
      ]
     },
     "execution_count": 10,
     "metadata": {},
     "output_type": "execute_result"
    }
   ],
   "source": [
    "brojevi.insert(4, \"test\")\n",
    "brojevi"
   ]
  },
  {
   "cell_type": "code",
   "execution_count": 11,
   "id": "a12ffc45",
   "metadata": {},
   "outputs": [
    {
     "data": {
      "text/plain": [
       "[0, 1, 2, 3, 'test', 4, 5, 6, 7, 8, 9, 12, 50, 51, 52, 53, 54]"
      ]
     },
     "execution_count": 11,
     "metadata": {},
     "output_type": "execute_result"
    }
   ],
   "source": [
    "b2 = list(range(50,55))\n",
    "brojevi.extend(b2)\n",
    "brojevi"
   ]
  },
  {
   "cell_type": "code",
   "execution_count": 13,
   "id": "87bcd816",
   "metadata": {},
   "outputs": [
    {
     "data": {
      "text/plain": [
       "[0, 1, 2, 3, 4, 5, 6, 7, 8, 9, 50, 51, 52, 53, 54]"
      ]
     },
     "execution_count": 13,
     "metadata": {},
     "output_type": "execute_result"
    }
   ],
   "source": [
    "brojevi.remove(12)\n",
    "brojevi"
   ]
  },
  {
   "cell_type": "code",
   "execution_count": 14,
   "id": "cd9d86a9",
   "metadata": {},
   "outputs": [
    {
     "data": {
      "text/plain": [
       "[0, 1, 2, 3, 5, 6, 7, 8, 9, 50, 51, 52, 53, 54]"
      ]
     },
     "execution_count": 14,
     "metadata": {},
     "output_type": "execute_result"
    }
   ],
   "source": [
    "brojevi.pop(4)\n",
    "brojevi"
   ]
  },
  {
   "cell_type": "code",
   "execution_count": 15,
   "id": "9900c02c",
   "metadata": {},
   "outputs": [
    {
     "data": {
      "text/plain": [
       "True"
      ]
     },
     "execution_count": 15,
     "metadata": {},
     "output_type": "execute_result"
    }
   ],
   "source": [
    "5 in brojevi"
   ]
  },
  {
   "cell_type": "code",
   "execution_count": 16,
   "id": "1ff257fa",
   "metadata": {},
   "outputs": [
    {
     "data": {
      "text/plain": [
       "[54, 53, 52, 51, 50]"
      ]
     },
     "execution_count": 16,
     "metadata": {},
     "output_type": "execute_result"
    }
   ],
   "source": [
    "brojevi_b2 = brojevi[:-6:-1]\n",
    "brojevi_b2"
   ]
  },
  {
   "cell_type": "code",
   "execution_count": 24,
   "id": "aa28a856",
   "metadata": {
    "scrolled": true
   },
   "outputs": [
    {
     "data": {
      "text/plain": [
       "[14.1,\n",
       " 14.6,\n",
       " 14.9,\n",
       " 15.1,\n",
       " 15.2,\n",
       " 15.2,\n",
       " 15.4,\n",
       " 15.6,\n",
       " 15.9,\n",
       " 16.1,\n",
       " 16.3,\n",
       " 16.8,\n",
       " 16.8,\n",
       " 17.3,\n",
       " 17.3,\n",
       " 17.6,\n",
       " 17.9,\n",
       " 18.1,\n",
       " 18.3,\n",
       " 18.6,\n",
       " 19.1,\n",
       " 19.1,\n",
       " 19.5,\n",
       " 19.8,\n",
       " 20.3,\n",
       " 20.5,\n",
       " 20.5,\n",
       " 20.8,\n",
       " 21.2,\n",
       " 21.3,\n",
       " 21.8,\n",
       " 22.1,\n",
       " 22.3,\n",
       " 22.8,\n",
       " 23.1,\n",
       " 23.3,\n",
       " 23.9,\n",
       " 24.5,\n",
       " 24.6,\n",
       " 25.5,\n",
       " 25.6,\n",
       " 25.9,\n",
       " 26.1,\n",
       " 26.3,\n",
       " 26.3,\n",
       " 26.8,\n",
       " 26.8,\n",
       " 27.1,\n",
       " 27.2,\n",
       " 27.3,\n",
       " 27.5,\n",
       " 27.8]"
      ]
     },
     "execution_count": 24,
     "metadata": {},
     "output_type": "execute_result"
    }
   ],
   "source": [
    "sorted(dnevne_temperature)\n"
   ]
  },
  {
   "cell_type": "code",
   "execution_count": 26,
   "id": "4197cb21",
   "metadata": {
    "scrolled": true
   },
   "outputs": [
    {
     "data": {
      "text/plain": [
       "[15.1,\n",
       " 15.2,\n",
       " 15.6,\n",
       " 16.1,\n",
       " 16.8,\n",
       " 17.3,\n",
       " 17.3,\n",
       " 17.9,\n",
       " 18.3,\n",
       " 19.1,\n",
       " 20.3,\n",
       " 20.5,\n",
       " 20.8,\n",
       " 21.2,\n",
       " 21.8,\n",
       " 22.3,\n",
       " 23.1,\n",
       " 24.5,\n",
       " 25.6,\n",
       " 25.9,\n",
       " 26.3,\n",
       " 26.8,\n",
       " 27.1,\n",
       " 27.3,\n",
       " 27.5,\n",
       " 27.8,\n",
       " 27.2,\n",
       " 26.8,\n",
       " 26.3,\n",
       " 26.1,\n",
       " 25.5,\n",
       " 24.6,\n",
       " 23.9,\n",
       " 23.3,\n",
       " 22.8,\n",
       " 22.1,\n",
       " 21.3,\n",
       " 20.5,\n",
       " 19.8,\n",
       " 19.5,\n",
       " 19.1,\n",
       " 18.6,\n",
       " 18.1,\n",
       " 17.6,\n",
       " 16.8,\n",
       " 16.3,\n",
       " 15.9,\n",
       " 15.4,\n",
       " 15.2,\n",
       " 14.9,\n",
       " 14.6,\n",
       " 14.1]"
      ]
     },
     "execution_count": 26,
     "metadata": {},
     "output_type": "execute_result"
    }
   ],
   "source": [
    "dnevne_temperature\n"
   ]
  },
  {
   "cell_type": "code",
   "execution_count": 27,
   "id": "4b0571bb",
   "metadata": {
    "scrolled": true
   },
   "outputs": [
    {
     "data": {
      "text/plain": [
       "[14.1,\n",
       " 14.6,\n",
       " 14.9,\n",
       " 15.1,\n",
       " 15.2,\n",
       " 15.2,\n",
       " 15.4,\n",
       " 15.6,\n",
       " 15.9,\n",
       " 16.1,\n",
       " 16.3,\n",
       " 16.8,\n",
       " 16.8,\n",
       " 17.3,\n",
       " 17.3,\n",
       " 17.6,\n",
       " 17.9,\n",
       " 18.1,\n",
       " 18.3,\n",
       " 18.6,\n",
       " 19.1,\n",
       " 19.1,\n",
       " 19.5,\n",
       " 19.8,\n",
       " 20.3,\n",
       " 20.5,\n",
       " 20.5,\n",
       " 20.8,\n",
       " 21.2,\n",
       " 21.3,\n",
       " 21.8,\n",
       " 22.1,\n",
       " 22.3,\n",
       " 22.8,\n",
       " 23.1,\n",
       " 23.3,\n",
       " 23.9,\n",
       " 24.5,\n",
       " 24.6,\n",
       " 25.5,\n",
       " 25.6,\n",
       " 25.9,\n",
       " 26.1,\n",
       " 26.3,\n",
       " 26.3,\n",
       " 26.8,\n",
       " 26.8,\n",
       " 27.1,\n",
       " 27.2,\n",
       " 27.3,\n",
       " 27.5,\n",
       " 27.8]"
      ]
     },
     "execution_count": 27,
     "metadata": {},
     "output_type": "execute_result"
    }
   ],
   "source": [
    "dnevne_temperature.sort()\n",
    "dnevne_temperature"
   ]
  },
  {
   "cell_type": "code",
   "execution_count": 28,
   "id": "700783c0",
   "metadata": {},
   "outputs": [
    {
     "data": {
      "text/plain": [
       "<list_reverseiterator at 0x2389720b1c0>"
      ]
     },
     "execution_count": 28,
     "metadata": {},
     "output_type": "execute_result"
    }
   ],
   "source": [
    "reversed(dnevne_temperature)"
   ]
  },
  {
   "cell_type": "code",
   "execution_count": 29,
   "id": "9cdd34ae",
   "metadata": {},
   "outputs": [
    {
     "data": {
      "text/plain": [
       "[27.8,\n",
       " 27.5,\n",
       " 27.3,\n",
       " 27.2,\n",
       " 27.1,\n",
       " 26.8,\n",
       " 26.8,\n",
       " 26.3,\n",
       " 26.3,\n",
       " 26.1,\n",
       " 25.9,\n",
       " 25.6,\n",
       " 25.5,\n",
       " 24.6,\n",
       " 24.5,\n",
       " 23.9,\n",
       " 23.3,\n",
       " 23.1,\n",
       " 22.8,\n",
       " 22.3,\n",
       " 22.1,\n",
       " 21.8,\n",
       " 21.3,\n",
       " 21.2,\n",
       " 20.8,\n",
       " 20.5,\n",
       " 20.5,\n",
       " 20.3,\n",
       " 19.8,\n",
       " 19.5,\n",
       " 19.1,\n",
       " 19.1,\n",
       " 18.6,\n",
       " 18.3,\n",
       " 18.1,\n",
       " 17.9,\n",
       " 17.6,\n",
       " 17.3,\n",
       " 17.3,\n",
       " 16.8,\n",
       " 16.8,\n",
       " 16.3,\n",
       " 16.1,\n",
       " 15.9,\n",
       " 15.6,\n",
       " 15.4,\n",
       " 15.2,\n",
       " 15.2,\n",
       " 15.1,\n",
       " 14.9,\n",
       " 14.6,\n",
       " 14.1]"
      ]
     },
     "execution_count": 29,
     "metadata": {},
     "output_type": "execute_result"
    }
   ],
   "source": [
    "list(reversed(dnevne_temperature))"
   ]
  },
  {
   "cell_type": "code",
   "execution_count": 30,
   "id": "06e6da5b",
   "metadata": {},
   "outputs": [
    {
     "data": {
      "text/plain": [
       "{1: ['Senzor pokreta', 'Aktivan', 'Ulazna vrata'],\n",
       " 2: ['Senzor pokreta', 'Aktivan', 'Vrata na terasi'],\n",
       " 3: ['Senzor pokreta', 'Aktivan', 'Ulaz u dvoriste'],\n",
       " 4: ['Senzor plinova', 'Aktivan', 'Ulaz u garazu']}"
      ]
     },
     "execution_count": 30,
     "metadata": {},
     "output_type": "execute_result"
    }
   ],
   "source": [
    "senzori = {1 : ['Senzor pokreta', 'Aktivan', 'Ulazna vrata'],\n",
    "           2 : ['Senzor pokreta', 'Aktivan', 'Vrata na terasi'],\n",
    "           3 : ['Senzor pokreta', 'Aktivan', 'Ulaz u dvoriste'],\n",
    "           4 : ['Senzor plinova', 'Aktivan', 'Ulaz u garazu']\n",
    "          }\n",
    "\n",
    "senzori "
   ]
  },
  {
   "cell_type": "code",
   "execution_count": 31,
   "id": "785ba3fd",
   "metadata": {},
   "outputs": [
    {
     "data": {
      "text/plain": [
       "dict_keys([1, 2, 3, 4])"
      ]
     },
     "execution_count": 31,
     "metadata": {},
     "output_type": "execute_result"
    }
   ],
   "source": [
    "senzori.keys()"
   ]
  },
  {
   "cell_type": "code",
   "execution_count": 32,
   "id": "ce96e0ef",
   "metadata": {},
   "outputs": [
    {
     "data": {
      "text/plain": [
       "dict_values([['Senzor pokreta', 'Aktivan', 'Ulazna vrata'], ['Senzor pokreta', 'Aktivan', 'Vrata na terasi'], ['Senzor pokreta', 'Aktivan', 'Ulaz u dvoriste'], ['Senzor plinova', 'Aktivan', 'Ulaz u garazu']])"
      ]
     },
     "execution_count": 32,
     "metadata": {},
     "output_type": "execute_result"
    }
   ],
   "source": [
    "senzori.values()"
   ]
  },
  {
   "cell_type": "code",
   "execution_count": 33,
   "id": "90edb734",
   "metadata": {},
   "outputs": [
    {
     "data": {
      "text/plain": [
       "dict_items([(1, ['Senzor pokreta', 'Aktivan', 'Ulazna vrata']), (2, ['Senzor pokreta', 'Aktivan', 'Vrata na terasi']), (3, ['Senzor pokreta', 'Aktivan', 'Ulaz u dvoriste']), (4, ['Senzor plinova', 'Aktivan', 'Ulaz u garazu'])])"
      ]
     },
     "execution_count": 33,
     "metadata": {},
     "output_type": "execute_result"
    }
   ],
   "source": [
    "senzori.items()"
   ]
  },
  {
   "cell_type": "code",
   "execution_count": 34,
   "id": "e2b2faf5",
   "metadata": {},
   "outputs": [],
   "source": [
    "dnevne_temperature_zakljucano = (15.1, 15.2, 15.6, 16.1, 16.8, 17.3, 17.3, 17.9, 18.3, 19.1, 20.3, \n",
    "                                 20.5, 20.8, 21.2, 21.8, 22.3, 23.1, 24.5, 25.6, 25.9, 26.3, 26.8, \n",
    "                                 27.1, 27.3, 27.5, 27.8, 27.2, 26.8, 26.3, 26.1, 25.5, 24.6, 23.9, \n",
    "                                 23.3, 22.8, 22.1, 21.3, 20.5, 19.8, 19.5, 19.1, 18.6, 18.1, 17.6, \n",
    "                                 16.8, 16.3, 15.9, 15.4, 15.2, 14.9, 14.6, 14.1) \n"
   ]
  },
  {
   "cell_type": "code",
   "execution_count": 35,
   "id": "efaef9d7",
   "metadata": {},
   "outputs": [
    {
     "data": {
      "text/plain": [
       "(15.1, 15.2, 15.6, 16.1, 16.8, 17.3, 17.3, 17.9, 18.3, 19.1)"
      ]
     },
     "execution_count": 35,
     "metadata": {},
     "output_type": "execute_result"
    }
   ],
   "source": [
    "prvih_deset = dnevne_temperature_zakljucano[:10]\n",
    "prvih_deset"
   ]
  },
  {
   "cell_type": "code",
   "execution_count": 36,
   "id": "da88bb36",
   "metadata": {},
   "outputs": [
    {
     "data": {
      "text/plain": [
       "([1, 2, 3, 4], 4)"
      ]
     },
     "execution_count": 36,
     "metadata": {},
     "output_type": "execute_result"
    }
   ],
   "source": [
    "tpl1 = ([1,2,3],4)\n",
    "tpl1[0].append(4)\n",
    "tpl1"
   ]
  },
  {
   "cell_type": "code",
   "execution_count": 39,
   "id": "132a66d8",
   "metadata": {},
   "outputs": [
    {
     "data": {
      "text/plain": [
       "{1, 2, 3, 4, 5, 6}"
      ]
     },
     "execution_count": 39,
     "metadata": {},
     "output_type": "execute_result"
    }
   ],
   "source": [
    "lista = [2,2,3,1,5,4,5,6]\n",
    "lista\n",
    "set(lista)"
   ]
  },
  {
   "cell_type": "code",
   "execution_count": 42,
   "id": "9f11ba0a",
   "metadata": {},
   "outputs": [
    {
     "data": {
      "text/plain": [
       "['L',\n",
       " 'i',\n",
       " 's',\n",
       " 't',\n",
       " 'a',\n",
       " ' ',\n",
       " 'd',\n",
       " 'n',\n",
       " 'e',\n",
       " 'v',\n",
       " 'n',\n",
       " 'i',\n",
       " 'h',\n",
       " ' ',\n",
       " 't',\n",
       " 'e',\n",
       " 'm',\n",
       " 'p',\n",
       " 'e',\n",
       " 'r',\n",
       " 'a',\n",
       " 't',\n",
       " 'u',\n",
       " 'r',\n",
       " 'a']"
      ]
     },
     "execution_count": 42,
     "metadata": {},
     "output_type": "execute_result"
    }
   ],
   "source": [
    "naslov = \"Lista dnevnih temperatura\"\n",
    "list(naslov)\n"
   ]
  },
  {
   "cell_type": "code",
   "execution_count": 43,
   "id": "1e4d8952",
   "metadata": {},
   "outputs": [
    {
     "data": {
      "text/plain": [
       "{' ', 'L', 'a', 'd', 'e', 'h', 'i', 'm', 'n', 'p', 'r', 's', 't', 'u', 'v'}"
      ]
     },
     "execution_count": 43,
     "metadata": {},
     "output_type": "execute_result"
    }
   ],
   "source": [
    "set(naslov)"
   ]
  },
  {
   "cell_type": "code",
   "execution_count": 46,
   "id": "f1543287",
   "metadata": {},
   "outputs": [
    {
     "data": {
      "text/plain": [
       "True"
      ]
     },
     "execution_count": 46,
     "metadata": {},
     "output_type": "execute_result"
    }
   ],
   "source": [
    "\"i\" in set(naslov)"
   ]
  },
  {
   "cell_type": "code",
   "execution_count": 47,
   "id": "9b230ef6",
   "metadata": {},
   "outputs": [
    {
     "data": {
      "text/plain": [
       "'Lista\\\\nDnevnih\\\\nTemperatura'"
      ]
     },
     "execution_count": 47,
     "metadata": {},
     "output_type": "execute_result"
    }
   ],
   "source": [
    "naslov = r\"Lista\\nDnevnih\\nTemperatura\"\n",
    "naslov"
   ]
  },
  {
   "cell_type": "code",
   "execution_count": null,
   "id": "e41ed856",
   "metadata": {},
   "outputs": [],
   "source": [
    "putanja = r\"C:\\test\""
   ]
  },
  {
   "cell_type": "code",
   "execution_count": 65,
   "id": "8d1af56c",
   "metadata": {},
   "outputs": [
    {
     "data": {
      "text/plain": [
       "'7.53 kn vrijedi 1 EUR'"
      ]
     },
     "execution_count": 65,
     "metadata": {},
     "output_type": "execute_result"
    }
   ],
   "source": [
    "tekst = \"{0:.2f} {1:s} vrijedi {2:d} EUR\"\n",
    "tekst.format(7.53450,\"kn\",1)"
   ]
  },
  {
   "cell_type": "code",
   "execution_count": 68,
   "id": "b7bc6897",
   "metadata": {},
   "outputs": [
    {
     "name": "stdout",
     "output_type": "stream",
     "text": [
      "Siri isključi klimu\n"
     ]
    }
   ],
   "source": [
    "temp = 22\n",
    "if temp >= 25:\n",
    "    print(\"Ukljuci klimu\")\n",
    "elif temp <= 15:\n",
    "    print(\"Alexa uključi grijanje\")\n",
    "else:\n",
    "    print(\"Siri isključi klimu\")"
   ]
  },
  {
   "cell_type": "code",
   "execution_count": 70,
   "id": "bf3da590",
   "metadata": {},
   "outputs": [
    {
     "name": "stdout",
     "output_type": "stream",
     "text": [
      "Zalijevam\n",
      "30\n",
      "Zalijevam\n",
      "35\n",
      "Zalijevam\n",
      "40\n",
      "Zalijevam\n",
      "45\n",
      "Zalijevam\n",
      "50\n"
     ]
    }
   ],
   "source": [
    "vlaga = 25\n",
    "while vlaga < 50:\n",
    "    print(\"Zalijevam\")\n",
    "    vlaga += 5\n",
    "    print(vlaga)"
   ]
  }
 ],
 "metadata": {
  "kernelspec": {
   "display_name": "Python 3 (ipykernel)",
   "language": "python",
   "name": "python3"
  },
  "language_info": {
   "codemirror_mode": {
    "name": "ipython",
    "version": 3
   },
   "file_extension": ".py",
   "mimetype": "text/x-python",
   "name": "python",
   "nbconvert_exporter": "python",
   "pygments_lexer": "ipython3",
   "version": "3.11.4"
  }
 },
 "nbformat": 4,
 "nbformat_minor": 5
}
