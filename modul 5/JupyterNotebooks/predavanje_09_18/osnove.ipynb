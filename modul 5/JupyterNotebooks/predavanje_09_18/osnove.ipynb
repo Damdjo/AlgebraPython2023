{
 "cells": [
  {
   "cell_type": "code",
   "execution_count": null,
   "id": "ee14070a",
   "metadata": {},
   "outputs": [],
   "source": [
    "#možemo pisati komentare koji se neće izvesti\n",
    "\n",
    "print(\"Pozdrav iz Jupyter Notebooka\") #komentar\n",
    "a = 6"
   ]
  },
  {
   "cell_type": "code",
   "execution_count": null,
   "id": "34472d47",
   "metadata": {
    "scrolled": false
   },
   "outputs": [],
   "source": [
    "print(a+2)\n",
    "match a:\n",
    "    case 6:\n",
    "        print(a)"
   ]
  },
  {
   "cell_type": "code",
   "execution_count": null,
   "id": "af447da1",
   "metadata": {},
   "outputs": [],
   "source": [
    "5*(12.7-4)/2"
   ]
  },
  {
   "cell_type": "code",
   "execution_count": null,
   "id": "d3db3676",
   "metadata": {},
   "outputs": [],
   "source": [
    "varijabla = 5\n",
    "print(\"varijabla = 5 \\t\", type(varijabla))\n",
    "\n",
    "varijabla = \"tekst\"\n",
    "print(\"varijabla = 'tekst' \\t\", type(varijabla))\n",
    "\n",
    "varijabla"
   ]
  },
  {
   "cell_type": "code",
   "execution_count": null,
   "id": "57480da5",
   "metadata": {},
   "outputs": [],
   "source": [
    "a = [1,2,3]\n",
    "b = a[::]"
   ]
  },
  {
   "cell_type": "code",
   "execution_count": null,
   "id": "5148a84b",
   "metadata": {},
   "outputs": [],
   "source": [
    "a.append(5)\n"
   ]
  },
  {
   "cell_type": "code",
   "execution_count": null,
   "id": "2fd8413f",
   "metadata": {},
   "outputs": [],
   "source": [
    "print(f\"lista a: {a}\")\n",
    "print(f\"lista b: {b}\")"
   ]
  },
  {
   "cell_type": "code",
   "execution_count": null,
   "id": "8b2a8b76",
   "metadata": {},
   "outputs": [],
   "source": [
    "print(\" Ovo je \\\"test\\\". He's 20\")\n",
    "print(\"c:\\\\\")\n",
    "print(\"Ime\\tPrezime\\tMob\\n-------------------\")\n"
   ]
  },
  {
   "cell_type": "code",
   "execution_count": null,
   "id": "c4cb5ec7",
   "metadata": {},
   "outputs": [],
   "source": [
    "print(\"\"\"\n",
    "Pišemo onako\n",
    "kako nam odgovara\n",
    "u više redova i s razmacima po\n",
    "želji\n",
    "\"\"\")"
   ]
  },
  {
   "cell_type": "code",
   "execution_count": null,
   "id": "cfa04268",
   "metadata": {},
   "outputs": [],
   "source": [
    "v1 = int(input(\"Unesite vrijednost za v1: \"))\n",
    "v2 = int(input(\"Unesite vrijednost za v2: \"))\n",
    "v3 = int(input(\"Unesite vrijednost za v3: \"))\n",
    "\n",
    "#int\n",
    "v1int = int(input(\"Unesite vrijednost za v1: \"))\n",
    "v2int = int(input(\"Unesite vrijednost za v2: \"))\n",
    "v3int = int(input(\"Unesite vrijednost za v3: \"))"
   ]
  },
  {
   "cell_type": "code",
   "execution_count": null,
   "id": "d5155f47",
   "metadata": {},
   "outputs": [],
   "source": [
    "\"\"\"\n",
    "\n",
    "int() - pretvara tip podatka u dekadski broj\n",
    "float() - pretvara cijeli broj u decimalni broj\n",
    "ord() - pretvara znak u ASCII broj\n",
    "chr() - pretvara ASCII broj u znak\n",
    "hex() - pretvara broj u heksadekadski broj\n",
    "oct() - pretvara dekadski broj u oktalni broj\n",
    "str() - pretvara bilo koji tip u tekstualni tip podatka\n",
    "tuple() - pretvara dobiveni podatak u nterac (tuple)\n",
    "set() - pretvara dobiveni podatak u set (listu koja IMA JEDINSTVENE članove - nema duplikata)\n",
    "list() - pretvara dobiveni podatak u listu\n",
    "dict() - pretvara dobiveni podatak u rječnik.\n",
    "\n",
    "\"\"\""
   ]
  },
  {
   "cell_type": "code",
   "execution_count": null,
   "id": "6128077f",
   "metadata": {},
   "outputs": [],
   "source": [
    "#int\n",
    "print(\"int\")\n",
    "v1int = int(input(\"Unesite vrijednost za v1: \"))\n",
    "v2int = int(input(\"Unesite vrijednost za v2: \"))\n",
    "v3int = int(input(\"Unesite vrijednost za v3: \"))\n",
    "\n",
    "print(v1int,\"\\t\\t\",v2int,\"\\t\\t\",v3int)\n",
    "print(type(v1int),\"\\t\",type(v2int),\"\\t\",type(v3int))"
   ]
  },
  {
   "cell_type": "code",
   "execution_count": null,
   "id": "76be572c",
   "metadata": {},
   "outputs": [],
   "source": [
    "#float\n",
    "print(\"#\")\n",
    "v1float= float(input(\"Unesite vrijednost za v1: \"))\n",
    "v2float = float(input(\"Unesite vrijednost za v2: \"))\n",
    "v3float = float(input(\"Unesite vrijednost za v3: \"))\n",
    "\n",
    "print(v1float,\"\\t\\t\",v2float,\"\\t\\t\",v3float)\n",
    "print(type(v1float),\"\\t\",type(v2float),\"\\t\",type(v3float))"
   ]
  },
  {
   "cell_type": "code",
   "execution_count": null,
   "id": "cb8329c4",
   "metadata": {
    "scrolled": true
   },
   "outputs": [],
   "source": [
    "#ord\n",
    "print(\"ord\")\n",
    "v1ord= ord(input(\"Unesite vrijednost za v1: \"))\n",
    "v2ord = ord(input(\"Unesite vrijednost za v2: \"))\n",
    "v3ord = ord(input(\"Unesite vrijednost za v3: \"))\n",
    "\n",
    "print(v1ord,\"\\t\\t\",v2ord,\"\\t\\t\",v3ord)\n",
    "print(type(v1ord),\"\\t\",type(v2ord),\"\\t\",type(v3ord))"
   ]
  },
  {
   "cell_type": "code",
   "execution_count": null,
   "id": "a08e14a2",
   "metadata": {},
   "outputs": [],
   "source": [
    "#chr\n",
    "print(\"chr\")\n",
    "v1chr= chr(int(input(\"Unesite vrijednost za v1: \")))\n",
    "v2chr = chr(int(input(\"Unesite vrijednost za v2: \")))\n",
    "v3chr = chr(int(input(\"Unesite vrijednost za v3: \")))\n",
    "\n",
    "print(v1chr,\"\\t\\t\",v2chr,\"\\t\\t\",v3chr)\n",
    "print(type(v1chr),\"\\t\",type(v2chr),\"\\t\",type(v3chr))"
   ]
  },
  {
   "cell_type": "code",
   "execution_count": null,
   "id": "07f888e8",
   "metadata": {},
   "outputs": [],
   "source": [
    "#hex\n",
    "print(\"hex\")\n",
    "v1hex= hex(int(input(\"Unesite vrijednost za v1: \")))\n",
    "v2hex = hex(int(input(\"Unesite vrijednost za v2: \")))\n",
    "v3hex = hex(int(input(\"Unesite vrijednost za v3: \")))\n",
    "\n",
    "print(v1hex,\"\\t\\t\",v2hex,\"\\t\\t\",v3hex)\n",
    "print(type(v1hex),\"\\t\",type(v2hex),\"\\t\",type(v3hex))"
   ]
  },
  {
   "cell_type": "code",
   "execution_count": null,
   "id": "7b48c68d",
   "metadata": {},
   "outputs": [],
   "source": [
    "#str\n",
    "print(\"str\")\n",
    "v1str= input(\"Unesite vrijednost za v1: \")\n",
    "v2str = input(\"Unesite vrijednost za v2: \")\n",
    "v3str = input(\"Unesite vrijednost za v3: \")\n",
    "\n",
    "print(v1str,\"\\t\\t\",v2str,\"\\t\\t\",v3str)\n",
    "print(type(v1str),\"\\t\",type(v2str),\"\\t\",type(v3str))"
   ]
  },
  {
   "cell_type": "code",
   "execution_count": null,
   "id": "51fa065e",
   "metadata": {},
   "outputs": [],
   "source": [
    "#tuple\n",
    "print(\"tuple\")\n",
    "v1tuple = input(\"Unesite vrijednost za v1: \")\n",
    "v2tuple = input(\"Unesite vrijednost za v2: \")\n",
    "v3tuple = input(\"Unesite vrijednost za v3: \")\n",
    "\n",
    "tuple = (v1tuple, v2tuple, v3tuple)\n",
    "print(tuple)\n",
    "print(type(tuple))"
   ]
  },
  {
   "cell_type": "code",
   "execution_count": null,
   "id": "edf4618d",
   "metadata": {},
   "outputs": [],
   "source": [
    "#set\n",
    "print(\"set\")\n",
    "v1set = input(\"Unesite vrijednost za v1: \")\n",
    "v2set = input(\"Unesite vrijednost za v2: \")\n",
    "v3set = input(\"Unesite vrijednost za v3: \")\n",
    "\n",
    "list = [v1set, v2set, v3set]\n",
    "set = set(list)\n",
    "print(set)\n",
    "print(type(set))"
   ]
  },
  {
   "cell_type": "code",
   "execution_count": null,
   "id": "fdce9918",
   "metadata": {},
   "outputs": [],
   "source": [
    "#list\n",
    "print(\"list\")\n",
    "v1list= input(\"Unesite vrijednost za v1: \")\n",
    "v2list = input(\"Unesite vrijednost za v2: \")\n",
    "v3list = input(\"Unesite vrijednost za v3: \")\n",
    "\n",
    "list = [v1list, v2list, v3list]\n",
    "print(list)\n",
    "print(type(list))"
   ]
  },
  {
   "cell_type": "code",
   "execution_count": null,
   "id": "ae805673",
   "metadata": {},
   "outputs": [],
   "source": [
    "#dict\n",
    "print(\"dict\")\n",
    "v1dict= input(\"Unesite vrijednost za v1: \")\n",
    "v2dict = input(\"Unesite vrijednost za v2: \")\n",
    "v3dict = input(\"Unesite vrijednost za v3: \")\n",
    "\n",
    "dict = {\"v1dict\": v1dict, \"v2dict\": v2dict, \"v3dict\": v3dict}\n",
    "print(dict)\n",
    "print(type(dict))"
   ]
  },
  {
   "cell_type": "code",
   "execution_count": 24,
   "id": "5524a2b4",
   "metadata": {},
   "outputs": [],
   "source": [
    "dnevne_temperature = [15.1, 15.2, 15.6, 16.1, 16.8, 17.3, 17.3, 17.9, 18.3, 19.1, 20.3, 20.5, 20.8, \n",
    "                      21.2, 21.8, 22.3, 23.1, 24.5, 25.6, 25.9, 26.3, 26.8, 27.1, 27.3, 27.5, 27.8, \n",
    "                      27.2, 26.8, 26.3, 26.1, 25.5, 24.6, 23.9, 23.3, 22.8, 22.1, 21.3, 20.5, 19.8,\n",
    "                      19.5, 19.1, 18.6, 18.1, 17.6, 16.8, 16.3, 15.9, 15.4, 15.2, 14.9, 14.6, 14.1] "
   ]
  },
  {
   "cell_type": "code",
   "execution_count": null,
   "id": "4b4451ba",
   "metadata": {},
   "outputs": [],
   "source": [
    "lista = [\"Mate\", \"Matić\"]\n",
    "ime, prezime = lista\n",
    "print(f\"Ime: {ime}\")\n",
    "print(f\"Prezime: {prezime}\")\n"
   ]
  },
  {
   "cell_type": "code",
   "execution_count": null,
   "id": "2f30105f",
   "metadata": {},
   "outputs": [],
   "source": [
    "brojevi = range(10)\n",
    "brojevi"
   ]
  },
  {
   "cell_type": "code",
   "execution_count": null,
   "id": "5da728d6",
   "metadata": {},
   "outputs": [],
   "source": [
    "brojevi = list(brojevi)\n"
   ]
  },
  {
   "cell_type": "code",
   "execution_count": null,
   "id": "1e4de86f",
   "metadata": {},
   "outputs": [],
   "source": [
    "brojevi.append(12)\n",
    "brojevi"
   ]
  },
  {
   "cell_type": "code",
   "execution_count": null,
   "id": "787ed13b",
   "metadata": {},
   "outputs": [],
   "source": [
    "brojevi.insert(4, \"test\")\n",
    "brojevi"
   ]
  },
  {
   "cell_type": "code",
   "execution_count": null,
   "id": "a12ffc45",
   "metadata": {},
   "outputs": [],
   "source": [
    "b2 = list(range(50,55))\n",
    "brojevi.extend(b2)\n",
    "brojevi"
   ]
  },
  {
   "cell_type": "code",
   "execution_count": null,
   "id": "87bcd816",
   "metadata": {},
   "outputs": [],
   "source": [
    "brojevi.remove(12)\n",
    "brojevi"
   ]
  },
  {
   "cell_type": "code",
   "execution_count": null,
   "id": "cd9d86a9",
   "metadata": {},
   "outputs": [],
   "source": [
    "brojevi.pop(4)\n",
    "brojevi"
   ]
  },
  {
   "cell_type": "code",
   "execution_count": null,
   "id": "9900c02c",
   "metadata": {},
   "outputs": [],
   "source": [
    "5 in brojevi"
   ]
  },
  {
   "cell_type": "code",
   "execution_count": null,
   "id": "1ff257fa",
   "metadata": {},
   "outputs": [],
   "source": [
    "brojevi_b2 = brojevi[:-6:-1]\n",
    "brojevi_b2"
   ]
  },
  {
   "cell_type": "code",
   "execution_count": null,
   "id": "aa28a856",
   "metadata": {
    "scrolled": true
   },
   "outputs": [],
   "source": [
    "sorted(dnevne_temperature)\n"
   ]
  },
  {
   "cell_type": "code",
   "execution_count": null,
   "id": "4197cb21",
   "metadata": {
    "scrolled": true
   },
   "outputs": [],
   "source": [
    "dnevne_temperature\n"
   ]
  },
  {
   "cell_type": "code",
   "execution_count": null,
   "id": "4b0571bb",
   "metadata": {
    "scrolled": true
   },
   "outputs": [],
   "source": [
    "dnevne_temperature.sort()\n",
    "dnevne_temperature"
   ]
  },
  {
   "cell_type": "code",
   "execution_count": null,
   "id": "700783c0",
   "metadata": {},
   "outputs": [],
   "source": [
    "reversed(dnevne_temperature)"
   ]
  },
  {
   "cell_type": "code",
   "execution_count": null,
   "id": "9cdd34ae",
   "metadata": {},
   "outputs": [],
   "source": [
    "list(reversed(dnevne_temperature))"
   ]
  },
  {
   "cell_type": "code",
   "execution_count": 2,
   "id": "06e6da5b",
   "metadata": {},
   "outputs": [
    {
     "data": {
      "text/plain": [
       "{1: ['Senzor pokreta', 'Aktivan', 'Ulazna vrata'],\n",
       " 2: ['Senzor pokreta', 'Aktivan', 'Vrata na terasi'],\n",
       " 3: ['Senzor pokreta', 'Aktivan', 'Ulaz u dvoriste'],\n",
       " 4: ['Senzor plinova', 'Aktivan', 'Ulaz u garazu']}"
      ]
     },
     "execution_count": 2,
     "metadata": {},
     "output_type": "execute_result"
    }
   ],
   "source": [
    "senzori = {1 : ['Senzor pokreta', 'Aktivan', 'Ulazna vrata'],\n",
    "           2 : ['Senzor pokreta', 'Aktivan', 'Vrata na terasi'],\n",
    "           3 : ['Senzor pokreta', 'Aktivan', 'Ulaz u dvoriste'],\n",
    "           4 : ['Senzor plinova', 'Aktivan', 'Ulaz u garazu']\n",
    "          }\n",
    "\n",
    "senzori "
   ]
  },
  {
   "cell_type": "code",
   "execution_count": 3,
   "id": "785ba3fd",
   "metadata": {},
   "outputs": [
    {
     "data": {
      "text/plain": [
       "dict_keys([1, 2, 3, 4])"
      ]
     },
     "execution_count": 3,
     "metadata": {},
     "output_type": "execute_result"
    }
   ],
   "source": [
    "senzori.keys()"
   ]
  },
  {
   "cell_type": "code",
   "execution_count": 4,
   "id": "ce96e0ef",
   "metadata": {},
   "outputs": [
    {
     "data": {
      "text/plain": [
       "dict_values([['Senzor pokreta', 'Aktivan', 'Ulazna vrata'], ['Senzor pokreta', 'Aktivan', 'Vrata na terasi'], ['Senzor pokreta', 'Aktivan', 'Ulaz u dvoriste'], ['Senzor plinova', 'Aktivan', 'Ulaz u garazu']])"
      ]
     },
     "execution_count": 4,
     "metadata": {},
     "output_type": "execute_result"
    }
   ],
   "source": [
    "senzori.values()"
   ]
  },
  {
   "cell_type": "code",
   "execution_count": 5,
   "id": "90edb734",
   "metadata": {},
   "outputs": [
    {
     "data": {
      "text/plain": [
       "dict_items([(1, ['Senzor pokreta', 'Aktivan', 'Ulazna vrata']), (2, ['Senzor pokreta', 'Aktivan', 'Vrata na terasi']), (3, ['Senzor pokreta', 'Aktivan', 'Ulaz u dvoriste']), (4, ['Senzor plinova', 'Aktivan', 'Ulaz u garazu'])])"
      ]
     },
     "execution_count": 5,
     "metadata": {},
     "output_type": "execute_result"
    }
   ],
   "source": [
    "senzori.items()"
   ]
  },
  {
   "cell_type": "code",
   "execution_count": 6,
   "id": "e2b2faf5",
   "metadata": {},
   "outputs": [],
   "source": [
    "dnevne_temperature_zakljucano = (15.1, 15.2, 15.6, 16.1, 16.8, 17.3, 17.3, 17.9, 18.3, 19.1, 20.3, \n",
    "                                 20.5, 20.8, 21.2, 21.8, 22.3, 23.1, 24.5, 25.6, 25.9, 26.3, 26.8, \n",
    "                                 27.1, 27.3, 27.5, 27.8, 27.2, 26.8, 26.3, 26.1, 25.5, 24.6, 23.9, \n",
    "                                 23.3, 22.8, 22.1, 21.3, 20.5, 19.8, 19.5, 19.1, 18.6, 18.1, 17.6, \n",
    "                                 16.8, 16.3, 15.9, 15.4, 15.2, 14.9, 14.6, 14.1) \n"
   ]
  },
  {
   "cell_type": "code",
   "execution_count": 7,
   "id": "efaef9d7",
   "metadata": {},
   "outputs": [
    {
     "data": {
      "text/plain": [
       "(15.1, 15.2, 15.6, 16.1, 16.8, 17.3, 17.3, 17.9, 18.3, 19.1)"
      ]
     },
     "execution_count": 7,
     "metadata": {},
     "output_type": "execute_result"
    }
   ],
   "source": [
    "prvih_deset = dnevne_temperature_zakljucano[:10]\n",
    "prvih_deset"
   ]
  },
  {
   "cell_type": "code",
   "execution_count": 8,
   "id": "da88bb36",
   "metadata": {},
   "outputs": [
    {
     "data": {
      "text/plain": [
       "([1, 2, 3, 4], 4)"
      ]
     },
     "execution_count": 8,
     "metadata": {},
     "output_type": "execute_result"
    }
   ],
   "source": [
    "tpl1 = ([1,2,3],4)\n",
    "tpl1[0].append(4)\n",
    "tpl1"
   ]
  },
  {
   "cell_type": "code",
   "execution_count": 9,
   "id": "132a66d8",
   "metadata": {},
   "outputs": [
    {
     "data": {
      "text/plain": [
       "{1, 2, 3, 4, 5, 6}"
      ]
     },
     "execution_count": 9,
     "metadata": {},
     "output_type": "execute_result"
    }
   ],
   "source": [
    "lista = [2,2,3,1,5,4,5,6]\n",
    "lista\n",
    "set(lista)"
   ]
  },
  {
   "cell_type": "code",
   "execution_count": 10,
   "id": "9f11ba0a",
   "metadata": {},
   "outputs": [
    {
     "data": {
      "text/plain": [
       "['L',\n",
       " 'i',\n",
       " 's',\n",
       " 't',\n",
       " 'a',\n",
       " ' ',\n",
       " 'd',\n",
       " 'n',\n",
       " 'e',\n",
       " 'v',\n",
       " 'n',\n",
       " 'i',\n",
       " 'h',\n",
       " ' ',\n",
       " 't',\n",
       " 'e',\n",
       " 'm',\n",
       " 'p',\n",
       " 'e',\n",
       " 'r',\n",
       " 'a',\n",
       " 't',\n",
       " 'u',\n",
       " 'r',\n",
       " 'a']"
      ]
     },
     "execution_count": 10,
     "metadata": {},
     "output_type": "execute_result"
    }
   ],
   "source": [
    "naslov = \"Lista dnevnih temperatura\"\n",
    "list(naslov)\n"
   ]
  },
  {
   "cell_type": "code",
   "execution_count": 11,
   "id": "1e4d8952",
   "metadata": {},
   "outputs": [
    {
     "data": {
      "text/plain": [
       "{' ', 'L', 'a', 'd', 'e', 'h', 'i', 'm', 'n', 'p', 'r', 's', 't', 'u', 'v'}"
      ]
     },
     "execution_count": 11,
     "metadata": {},
     "output_type": "execute_result"
    }
   ],
   "source": [
    "set(naslov)"
   ]
  },
  {
   "cell_type": "code",
   "execution_count": 12,
   "id": "f1543287",
   "metadata": {},
   "outputs": [
    {
     "data": {
      "text/plain": [
       "True"
      ]
     },
     "execution_count": 12,
     "metadata": {},
     "output_type": "execute_result"
    }
   ],
   "source": [
    "\"i\" in set(naslov)"
   ]
  },
  {
   "cell_type": "code",
   "execution_count": 13,
   "id": "9b230ef6",
   "metadata": {},
   "outputs": [
    {
     "data": {
      "text/plain": [
       "'Lista\\\\nDnevnih\\\\nTemperatura'"
      ]
     },
     "execution_count": 13,
     "metadata": {},
     "output_type": "execute_result"
    }
   ],
   "source": [
    "naslov = r\"Lista\\nDnevnih\\nTemperatura\"\n",
    "naslov"
   ]
  },
  {
   "cell_type": "code",
   "execution_count": 14,
   "id": "e41ed856",
   "metadata": {},
   "outputs": [],
   "source": [
    "putanja = r\"C:\\test\""
   ]
  },
  {
   "cell_type": "code",
   "execution_count": 15,
   "id": "8d1af56c",
   "metadata": {},
   "outputs": [
    {
     "data": {
      "text/plain": [
       "'7.53 kn vrijedi 1 EUR'"
      ]
     },
     "execution_count": 15,
     "metadata": {},
     "output_type": "execute_result"
    }
   ],
   "source": [
    "tekst = \"{0:.2f} {1:s} vrijedi {2:d} EUR\"\n",
    "tekst.format(7.53450,\"kn\",1)"
   ]
  },
  {
   "cell_type": "code",
   "execution_count": 16,
   "id": "b7bc6897",
   "metadata": {},
   "outputs": [
    {
     "name": "stdout",
     "output_type": "stream",
     "text": [
      "Siri isključi klimu\n"
     ]
    }
   ],
   "source": [
    "temp = 22\n",
    "if temp >= 25:\n",
    "    print(\"Ukljuci klimu\")\n",
    "elif temp <= 15:\n",
    "    print(\"Alexa uključi grijanje\")\n",
    "else:\n",
    "    print(\"Siri isključi klimu\")"
   ]
  },
  {
   "cell_type": "code",
   "execution_count": 17,
   "id": "bf3da590",
   "metadata": {},
   "outputs": [
    {
     "name": "stdout",
     "output_type": "stream",
     "text": [
      "Zalijevam\n",
      "30\n",
      "Zalijevam\n",
      "35\n",
      "Zalijevam\n",
      "40\n",
      "Zalijevam\n",
      "45\n",
      "Zalijevam\n",
      "50\n"
     ]
    }
   ],
   "source": [
    "vlaga = 25\n",
    "while vlaga < 50:\n",
    "    print(\"Zalijevam\")\n",
    "    vlaga += 5\n",
    "    print(vlaga)"
   ]
  },
  {
   "cell_type": "code",
   "execution_count": 18,
   "id": "823b6212",
   "metadata": {},
   "outputs": [
    {
     "name": "stdout",
     "output_type": "stream",
     "text": [
      "ID: 1\t Tip: Senzor pokreta\t Status: Aktivan\t Lokacija: Ulazna vrata\n",
      "ID: 2\t Tip: Senzor pokreta\t Status: Aktivan\t Lokacija: Vrata na terasi\n",
      "ID: 3\t Tip: Senzor pokreta\t Status: Aktivan\t Lokacija: Ulaz u dvoriste\n",
      "ID: 4\t Tip: Senzor plinova\t Status: Aktivan\t Lokacija: Ulaz u garazu\n"
     ]
    }
   ],
   "source": [
    "for id_senzora,senzor in senzori.items():\n",
    "    print(f\"ID: {id_senzora}\\t Tip: {senzor[0]}\\t Status: {senzor[1]}\\t Lokacija: {senzor[2]}\")\n",
    "    "
   ]
  },
  {
   "cell_type": "code",
   "execution_count": 20,
   "id": "9cb9b50d",
   "metadata": {},
   "outputs": [
    {
     "data": {
      "text/plain": [
       "['SENZOR POKRETA', 'AKTIVAN', 'ULAZNA VRATA']"
      ]
     },
     "execution_count": 20,
     "metadata": {},
     "output_type": "execute_result"
    }
   ],
   "source": [
    "rijeci = [\"Senzor pokreta\",\"Aktivan\",\"Ulazna vrata\"]\n",
    "rezultat = []\n",
    "for rijec in rijeci:\n",
    "    if len(rijec)>2:\n",
    "        rezultat.append(rijec.upper())\n",
    "rezultat"
   ]
  },
  {
   "cell_type": "code",
   "execution_count": 21,
   "id": "12648be8",
   "metadata": {},
   "outputs": [
    {
     "data": {
      "text/plain": [
       "['SENZOR POKRETA', 'AKTIVAN', 'ULAZNA VRATA']"
      ]
     },
     "execution_count": 21,
     "metadata": {},
     "output_type": "execute_result"
    }
   ],
   "source": [
    "[x.upper() for x in rijeci if len(x)>2]"
   ]
  },
  {
   "cell_type": "code",
   "execution_count": 22,
   "id": "75ae410c",
   "metadata": {},
   "outputs": [
    {
     "data": {
      "text/plain": [
       "'\\nlist = [vrijednost_naredba for vrijednost in kolekcija if uvjet]\\ndict = {kljuc_naredba: vrijednost_naredba for vrijednost in kolekcija if uvjet}\\nset = {naredba for vrijednost in kolekcija if uvjet}\\n'"
      ]
     },
     "execution_count": 22,
     "metadata": {},
     "output_type": "execute_result"
    }
   ],
   "source": [
    "\"\"\"\n",
    "list = [vrijednost_naredba for vrijednost in kolekcija if uvjet]\n",
    "dict = {kljuc_naredba: vrijednost_naredba for vrijednost in kolekcija if uvjet}\n",
    "set = {naredba for vrijednost in kolekcija if uvjet}\n",
    "\"\"\""
   ]
  },
  {
   "cell_type": "code",
   "execution_count": 25,
   "id": "2d01376c",
   "metadata": {},
   "outputs": [
    {
     "data": {
      "text/plain": [
       "[15.1,\n",
       " 15.2,\n",
       " 15.6,\n",
       " 16.1,\n",
       " 16.8,\n",
       " 17.3,\n",
       " 17.3,\n",
       " 17.9,\n",
       " 18.3,\n",
       " 19.1,\n",
       " 20.3,\n",
       " 20.5,\n",
       " 20.8,\n",
       " 21.2,\n",
       " 21.8,\n",
       " 22.3,\n",
       " 23.1,\n",
       " 24.5,\n",
       " 25.6,\n",
       " 25.9,\n",
       " 26.3,\n",
       " 26.8,\n",
       " 27.1,\n",
       " 27.3,\n",
       " 27.5,\n",
       " 27.8,\n",
       " 27.2,\n",
       " 26.8,\n",
       " 26.3,\n",
       " 26.1,\n",
       " 25.5,\n",
       " 24.6,\n",
       " 23.9,\n",
       " 23.3,\n",
       " 22.8,\n",
       " 22.1,\n",
       " 21.3,\n",
       " 20.5,\n",
       " 19.8,\n",
       " 19.5,\n",
       " 19.1,\n",
       " 18.6,\n",
       " 18.1,\n",
       " 17.6,\n",
       " 16.8,\n",
       " 16.3,\n",
       " 15.9,\n",
       " 15.4,\n",
       " 15.2,\n",
       " 14.9,\n",
       " 14.6,\n",
       " 14.1]"
      ]
     },
     "execution_count": 25,
     "metadata": {},
     "output_type": "execute_result"
    }
   ],
   "source": [
    "dnevne_temperature"
   ]
  },
  {
   "cell_type": "code",
   "execution_count": 54,
   "id": "f312b5f6",
   "metadata": {},
   "outputs": [
    {
     "name": "stdout",
     "output_type": "stream",
     "text": [
      "\n",
      "U listi \"dnevne_temperature\" ima 52 stavki,\n",
      "najveća je 27.8, a najmanja 14.1.\n",
      "Prosjek temperatura je 20.84 C\n"
     ]
    }
   ],
   "source": [
    "\n",
    "min = 100\n",
    "max = 0\n",
    "zbroj = 0\n",
    "broj_stavki = 0\n",
    "\n",
    "#max, min\n",
    "[max := x for x in dnevne_temperature if x > max]\n",
    "[min := x for x in dnevne_temperature if x < min]\n",
    "\n",
    "#prosjek, broj stavki\n",
    "[zbroj := zbroj + x for x in dnevne_temperature]\n",
    "[broj_stavki := broj_stavki + 1 for x in dnevne_temperature]\n",
    "prosjek = zbroj/broj_stavki\n",
    "\n",
    "print(f\"\"\"\n",
    "U listi \\\"dnevne_temperature\\\" ima {broj_stavki} stavki,\n",
    "najveća je {max}, a najmanja {min}.\n",
    "Prosjek temperatura je {prosjek:.2f} C\"\"\")\n"
   ]
  },
  {
   "cell_type": "code",
   "execution_count": 64,
   "id": "b6f6a462",
   "metadata": {},
   "outputs": [
    {
     "name": "stdout",
     "output_type": "stream",
     "text": [
      "Srednja vrijednost podataka je: 128.1\n",
      "Srednja vrijednost podataka bez ekstrema je: 17.7\n",
      "Medijan podataka je: 18.0\n",
      "Podatak koji se najviše ponavlja je: 2\n"
     ]
    }
   ],
   "source": [
    "import statistics\n",
    "\n",
    "#srednja vrijednost\n",
    "podatci = [41, 11, 29, 7, 37, 41, 1013, 17, 2, 1009, 5, 23, 31, 13, 2, 19, 3, 2]\n",
    "srednja_vrijednost = statistics.mean(podatci)\n",
    "print(f\"Srednja vrijednost podataka je: {srednja_vrijednost:.1f}\")\n",
    "\n",
    "#srednja vrijednost bez ekstrema\n",
    "podatci_bez_ekstrema = [41, 11, 29, 7, 37, 41, 17, 2, 5, 23, 31, 13, 2, 19, 3, 2]\n",
    "srednja_vrijednost_bez_ekstrema = statistics.mean(podatci_bez_ekstrema)\n",
    "print(f\"Srednja vrijednost podataka bez ekstrema je: {srednja_vrijednost_bez_ekstrema:.1f}\")\n",
    "\n",
    "#medijan\n",
    "medijan = statistics.median(podatci)\n",
    "print(f\"Medijan podataka je: {medijan:.1f}\")\n",
    "\n",
    "#mod\n",
    "mode = statistics.mode(podatci)\n",
    "print(f\"Podatak koji se najviše ponavlja je: {mode}\")"
   ]
  },
  {
   "cell_type": "code",
   "execution_count": 70,
   "id": "8266e954",
   "metadata": {},
   "outputs": [
    {
     "name": "stdout",
     "output_type": "stream",
     "text": [
      "Dan: 24\n",
      "Sekunde: 59\n"
     ]
    },
    {
     "data": {
      "text/plain": [
       "datetime.date(2021, 7, 24)"
      ]
     },
     "execution_count": 70,
     "metadata": {},
     "output_type": "execute_result"
    }
   ],
   "source": [
    "from datetime import datetime, date, time\n",
    "\n",
    "dt = datetime(2021,7,24,4,45,59)\n",
    "print(f\"Dan: {dt.day}\")\n",
    "print(f\"Sekunde: {dt.second}\")\n",
    "\n",
    "dt.date()"
   ]
  },
  {
   "cell_type": "code",
   "execution_count": 72,
   "id": "f1b625e3",
   "metadata": {},
   "outputs": [
    {
     "data": {
      "text/plain": [
       "datetime.time(4, 45, 59)"
      ]
     },
     "execution_count": 72,
     "metadata": {},
     "output_type": "execute_result"
    }
   ],
   "source": [
    "dt.time()"
   ]
  },
  {
   "cell_type": "code",
   "execution_count": 77,
   "id": "922c8e43",
   "metadata": {},
   "outputs": [
    {
     "data": {
      "text/plain": [
       "datetime.datetime(2009, 10, 31, 0, 0)"
      ]
     },
     "execution_count": 77,
     "metadata": {},
     "output_type": "execute_result"
    }
   ],
   "source": [
    "datetime.strptime(\"20091031\", \"%Y%m%d\")"
   ]
  },
  {
   "cell_type": "code",
   "execution_count": 81,
   "id": "dcd0cf98",
   "metadata": {},
   "outputs": [
    {
     "data": {
      "text/plain": [
       "'07/24/2021'"
      ]
     },
     "execution_count": 81,
     "metadata": {},
     "output_type": "execute_result"
    }
   ],
   "source": [
    "dt.strftime(\"%m/%d/%Y\")"
   ]
  },
  {
   "cell_type": "code",
   "execution_count": 84,
   "id": "d1aff434",
   "metadata": {},
   "outputs": [
    {
     "data": {
      "text/plain": [
       "datetime.datetime(2021, 7, 24, 4, 0)"
      ]
     },
     "execution_count": 84,
     "metadata": {},
     "output_type": "execute_result"
    }
   ],
   "source": [
    "dt.replace(minute=0, second = 0)"
   ]
  },
  {
   "cell_type": "code",
   "execution_count": 87,
   "id": "a493c3c2",
   "metadata": {},
   "outputs": [
    {
     "data": {
      "text/plain": [
       "datetime.timedelta(days=3538, seconds=22559)"
      ]
     },
     "execution_count": 87,
     "metadata": {},
     "output_type": "execute_result"
    }
   ],
   "source": [
    "dt2=datetime(2011,11,15,22,30)\n",
    "delta = dt - dt2\n",
    "delta"
   ]
  },
  {
   "cell_type": "code",
   "execution_count": null,
   "id": "d5480450",
   "metadata": {},
   "outputs": [],
   "source": []
  }
 ],
 "metadata": {
  "kernelspec": {
   "display_name": "Python 3 (ipykernel)",
   "language": "python",
   "name": "python3"
  },
  "language_info": {
   "codemirror_mode": {
    "name": "ipython",
    "version": 3
   },
   "file_extension": ".py",
   "mimetype": "text/x-python",
   "name": "python",
   "nbconvert_exporter": "python",
   "pygments_lexer": "ipython3",
   "version": "3.11.4"
  }
 },
 "nbformat": 4,
 "nbformat_minor": 5
}
