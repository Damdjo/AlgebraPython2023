{
 "cells": [
  {
   "cell_type": "code",
   "execution_count": 1,
   "id": "39a640ad",
   "metadata": {},
   "outputs": [],
   "source": [
    "###\n",
    "#  https://numpy.org/\n",
    "###"
   ]
  },
  {
   "cell_type": "code",
   "execution_count": 2,
   "id": "65fc4aad",
   "metadata": {},
   "outputs": [],
   "source": [
    "import numpy as np"
   ]
  },
  {
   "cell_type": "code",
   "execution_count": 3,
   "id": "f60fa896",
   "metadata": {},
   "outputs": [
    {
     "name": "stdout",
     "output_type": "stream",
     "text": [
      "Množenje python liste: [1, 2, 3, 4, 5, 1, 2, 3, 4, 5]\n",
      "Množenje NumPy ndArray: [ 2  4  6  8 10]\n"
     ]
    }
   ],
   "source": [
    "python_lista = [1,2,3,4,5]\n",
    "numpy_ndarray = np.array([1,2,3,4,5])\n",
    "\n",
    "print(f\"Množenje python liste: {python_lista * 2}\")\n",
    "print(f\"Množenje NumPy ndArray: {numpy_ndarray * 2}\")\n"
   ]
  },
  {
   "cell_type": "code",
   "execution_count": 5,
   "id": "f943c17a",
   "metadata": {},
   "outputs": [
    {
     "data": {
      "text/plain": [
       "array([ 3,  6,  9, 12, 15])"
      ]
     },
     "execution_count": 5,
     "metadata": {},
     "output_type": "execute_result"
    }
   ],
   "source": [
    "np.multiply(python_lista, 3)"
   ]
  },
  {
   "cell_type": "code",
   "execution_count": 7,
   "id": "29c0f0b3",
   "metadata": {},
   "outputs": [
    {
     "data": {
      "text/plain": [
       "array([ 3.  ,  6.  ,  9.  , 12.  , 15.  ,  9.42,  0.  ])"
      ]
     },
     "execution_count": 7,
     "metadata": {},
     "output_type": "execute_result"
    }
   ],
   "source": [
    "#python_lista_multiple = [1,2,3,4,5,\"Alg\",\"Pyt\",\"Dev\",3.14,False]\n",
    "\n",
    "python_lista_multiple = [1,2,3,4,5,3.14,False]\n",
    "np.multiply(python_lista_multiple, 3)"
   ]
  },
  {
   "cell_type": "code",
   "execution_count": 9,
   "id": "77e683b1",
   "metadata": {},
   "outputs": [
    {
     "name": "stdout",
     "output_type": "stream",
     "text": [
      "[[1, 2, 3], [4, 5, 6], [7, 8, 9]]\n"
     ]
    }
   ],
   "source": [
    "podatci = [[1,2,3], [4,5,6], [7,8,9]]\n",
    "\n",
    "print(podatci)"
   ]
  },
  {
   "cell_type": "code",
   "execution_count": 11,
   "id": "4c52bc9b",
   "metadata": {},
   "outputs": [
    {
     "name": "stdout",
     "output_type": "stream",
     "text": [
      "[[1 2 3]\n",
      " [4 5 6]\n",
      " [7 8 9]]\n"
     ]
    }
   ],
   "source": [
    "np_podatci = np.array(podatci)\n",
    "print(np_podatci)"
   ]
  },
  {
   "cell_type": "code",
   "execution_count": 13,
   "id": "9ea21ba4",
   "metadata": {},
   "outputs": [
    {
     "data": {
      "text/plain": [
       "9"
      ]
     },
     "execution_count": 13,
     "metadata": {},
     "output_type": "execute_result"
    }
   ],
   "source": [
    "np_podatci.size"
   ]
  },
  {
   "cell_type": "code",
   "execution_count": 14,
   "id": "aeed4477",
   "metadata": {},
   "outputs": [
    {
     "data": {
      "text/plain": [
       "2"
      ]
     },
     "execution_count": 14,
     "metadata": {},
     "output_type": "execute_result"
    }
   ],
   "source": [
    "np_podatci.ndim"
   ]
  },
  {
   "cell_type": "code",
   "execution_count": 31,
   "id": "961a54ae",
   "metadata": {},
   "outputs": [],
   "source": [
    "lista = [\n",
    "    [[1,2,3,4],[5,6,7,8],[9,10,11,12]],\n",
    "    [[13,14,15,16],[17,18,19,20],[21,22,23,24]],\n",
    "    [[25,26,27,28],[29,30,31,32],[33,34,35,36]]\n",
    "]\n",
    "tri_d = np.array(lista)"
   ]
  },
  {
   "cell_type": "code",
   "execution_count": 32,
   "id": "35915687",
   "metadata": {},
   "outputs": [
    {
     "data": {
      "text/plain": [
       "3"
      ]
     },
     "execution_count": 32,
     "metadata": {},
     "output_type": "execute_result"
    }
   ],
   "source": [
    "tri_d.ndim"
   ]
  },
  {
   "cell_type": "code",
   "execution_count": 33,
   "id": "75d997ae",
   "metadata": {
    "scrolled": true
   },
   "outputs": [
    {
     "data": {
      "text/plain": [
       "(3, 3, 4)"
      ]
     },
     "execution_count": 33,
     "metadata": {},
     "output_type": "execute_result"
    }
   ],
   "source": [
    "tri_d.shape"
   ]
  },
  {
   "cell_type": "code",
   "execution_count": 34,
   "id": "13c31880",
   "metadata": {
    "scrolled": true
   },
   "outputs": [
    {
     "name": "stdout",
     "output_type": "stream",
     "text": [
      "36\n",
      "4\n",
      "int32\n"
     ]
    }
   ],
   "source": [
    "print(np_podatci.nbytes)\n",
    "print(np_podatci.itemsize)\n",
    "print(np_podatci.dtype)"
   ]
  },
  {
   "cell_type": "code",
   "execution_count": 35,
   "id": "fc9dd7e7",
   "metadata": {},
   "outputs": [
    {
     "name": "stdout",
     "output_type": "stream",
     "text": [
      "144\n",
      "4\n",
      "int32\n"
     ]
    }
   ],
   "source": [
    "print(tri_d.nbytes)\n",
    "print(tri_d.itemsize)\n",
    "print(tri_d.dtype)"
   ]
  },
  {
   "cell_type": "code",
   "execution_count": 36,
   "id": "21c46ad9",
   "metadata": {
    "scrolled": true
   },
   "outputs": [
    {
     "data": {
      "text/plain": [
       "array([[[ 1,  2,  3,  4],\n",
       "        [ 5,  6,  7,  8],\n",
       "        [ 9, 10, 11, 12]],\n",
       "\n",
       "       [[13, 14, 15, 16],\n",
       "        [17, 18, 19, 20],\n",
       "        [21, 22, 23, 24]],\n",
       "\n",
       "       [[25, 26, 27, 28],\n",
       "        [29, 30, 31, 32],\n",
       "        [33, 34, 35, 36]]], dtype=int64)"
      ]
     },
     "execution_count": 36,
     "metadata": {},
     "output_type": "execute_result"
    }
   ],
   "source": [
    "tri_d = np.array(tri_d, dtype = np.int64)\n",
    "tri_d"
   ]
  },
  {
   "cell_type": "code",
   "execution_count": 37,
   "id": "0e840e8f",
   "metadata": {},
   "outputs": [
    {
     "name": "stdout",
     "output_type": "stream",
     "text": [
      "288\n",
      "8\n",
      "int64\n"
     ]
    }
   ],
   "source": [
    "print(tri_d.nbytes)\n",
    "print(tri_d.itemsize)\n",
    "print(tri_d.dtype)"
   ]
  },
  {
   "cell_type": "code",
   "execution_count": 39,
   "id": "5c37ca96",
   "metadata": {},
   "outputs": [
    {
     "data": {
      "text/plain": [
       "(3, 3, 4)"
      ]
     },
     "execution_count": 39,
     "metadata": {},
     "output_type": "execute_result"
    }
   ],
   "source": [
    "tri_d.shape"
   ]
  },
  {
   "cell_type": "code",
   "execution_count": 42,
   "id": "086b2f3b",
   "metadata": {
    "scrolled": true
   },
   "outputs": [
    {
     "name": "stdout",
     "output_type": "stream",
     "text": [
      "(9, 4)\n",
      "[[ 1  2  3  4]\n",
      " [ 5  6  7  8]\n",
      " [ 9 10 11 12]\n",
      " [13 14 15 16]\n",
      " [17 18 19 20]\n",
      " [21 22 23 24]\n",
      " [25 26 27 28]\n",
      " [29 30 31 32]\n",
      " [33 34 35 36]]\n"
     ]
    }
   ],
   "source": [
    "tri_d = tri_d.reshape(9,4)\n",
    "print(tri_d.shape)\n",
    "print(tri_d)"
   ]
  },
  {
   "cell_type": "code",
   "execution_count": 43,
   "id": "1ef57acb",
   "metadata": {},
   "outputs": [
    {
     "name": "stdout",
     "output_type": "stream",
     "text": [
      "(36,)\n",
      "[ 1  2  3  4  5  6  7  8  9 10 11 12 13 14 15 16 17 18 19 20 21 22 23 24\n",
      " 25 26 27 28 29 30 31 32 33 34 35 36]\n"
     ]
    }
   ],
   "source": [
    "tri_d = tri_d.reshape(36)\n",
    "print(tri_d.shape)\n",
    "print(tri_d)"
   ]
  },
  {
   "cell_type": "code",
   "execution_count": 44,
   "id": "5817d922",
   "metadata": {},
   "outputs": [
    {
     "data": {
      "text/plain": [
       "1"
      ]
     },
     "execution_count": 44,
     "metadata": {},
     "output_type": "execute_result"
    }
   ],
   "source": [
    "tri_d.ndim"
   ]
  },
  {
   "cell_type": "code",
   "execution_count": 49,
   "id": "027f445d",
   "metadata": {
    "scrolled": true
   },
   "outputs": [
    {
     "data": {
      "text/plain": [
       "array([[0., 0., 0., 0., 0.],\n",
       "       [0., 0., 0., 0., 0.],\n",
       "       [0., 0., 0., 0., 0.]])"
      ]
     },
     "execution_count": 49,
     "metadata": {},
     "output_type": "execute_result"
    }
   ],
   "source": [
    "nule = np.zeros((3,5))\n",
    "nule"
   ]
  },
  {
   "cell_type": "code",
   "execution_count": 51,
   "id": "6d0bfb8b",
   "metadata": {
    "scrolled": true
   },
   "outputs": [
    {
     "data": {
      "text/plain": [
       "array([[[1, 1, 1, 1, 1],\n",
       "        [1, 1, 1, 1, 1]],\n",
       "\n",
       "       [[1, 1, 1, 1, 1],\n",
       "        [1, 1, 1, 1, 1]],\n",
       "\n",
       "       [[1, 1, 1, 1, 1],\n",
       "        [1, 1, 1, 1, 1]]], dtype=int64)"
      ]
     },
     "execution_count": 51,
     "metadata": {},
     "output_type": "execute_result"
    }
   ],
   "source": [
    "jedinice = np.ones((3,2,5), dtype = np.int64)\n",
    "jedinice"
   ]
  },
  {
   "cell_type": "code",
   "execution_count": 53,
   "id": "0c8b6048",
   "metadata": {},
   "outputs": [
    {
     "data": {
      "text/plain": [
       "array([[[3.14, 3.14, 3.14, 3.14, 3.14],\n",
       "        [3.14, 3.14, 3.14, 3.14, 3.14]],\n",
       "\n",
       "       [[3.14, 3.14, 3.14, 3.14, 3.14],\n",
       "        [3.14, 3.14, 3.14, 3.14, 3.14]],\n",
       "\n",
       "       [[3.14, 3.14, 3.14, 3.14, 3.14],\n",
       "        [3.14, 3.14, 3.14, 3.14, 3.14]]])"
      ]
     },
     "execution_count": 53,
     "metadata": {},
     "output_type": "execute_result"
    }
   ],
   "source": [
    "pi = 3.14*jedinice\n",
    "pi"
   ]
  },
  {
   "cell_type": "code",
   "execution_count": 55,
   "id": "fcaa72d3",
   "metadata": {
    "scrolled": true
   },
   "outputs": [
    {
     "data": {
      "text/plain": [
       "array([[[7, 7, 7, 7, 7],\n",
       "        [7, 7, 7, 7, 7]],\n",
       "\n",
       "       [[7, 7, 7, 7, 7],\n",
       "        [7, 7, 7, 7, 7]],\n",
       "\n",
       "       [[7, 7, 7, 7, 7],\n",
       "        [7, 7, 7, 7, 7]]])"
      ]
     },
     "execution_count": 55,
     "metadata": {},
     "output_type": "execute_result"
    }
   ],
   "source": [
    "array_sedmice = np.full((3,2,5),7)\n",
    "array_sedmice"
   ]
  },
  {
   "cell_type": "code",
   "execution_count": 59,
   "id": "642a4394",
   "metadata": {},
   "outputs": [
    {
     "data": {
      "text/plain": [
       "array([ 5,  8, 11, 14])"
      ]
     },
     "execution_count": 59,
     "metadata": {},
     "output_type": "execute_result"
    }
   ],
   "source": [
    "np.arange(5,15,3)"
   ]
  },
  {
   "cell_type": "code",
   "execution_count": 60,
   "id": "03cac2b9",
   "metadata": {},
   "outputs": [
    {
     "data": {
      "text/plain": [
       "array([ 5., 10., 15.])"
      ]
     },
     "execution_count": 60,
     "metadata": {},
     "output_type": "execute_result"
    }
   ],
   "source": [
    "np.linspace(5,15,3)"
   ]
  },
  {
   "cell_type": "code",
   "execution_count": 63,
   "id": "87dffa56",
   "metadata": {},
   "outputs": [
    {
     "data": {
      "text/plain": [
       "array([22. , 27.5, 33. , 38.5, 44. ])"
      ]
     },
     "execution_count": 63,
     "metadata": {},
     "output_type": "execute_result"
    }
   ],
   "source": [
    "ispit = 44\n",
    "dvojke = ispit/2\n",
    "np.linspace(dvojke,ispit,5)"
   ]
  },
  {
   "cell_type": "markdown",
   "id": "a0ed9870",
   "metadata": {},
   "source": [
    "Generirajte nekoliko novih Array objekata pomoću arange i linspace\n",
    "metoda (neka ih bude minimalno 4) te im promijenite oblik po izboru. "
   ]
  },
  {
   "cell_type": "code",
   "execution_count": 78,
   "id": "766fd0d0",
   "metadata": {},
   "outputs": [
    {
     "name": "stdout",
     "output_type": "stream",
     "text": [
      "[1 1 1 1 1 1 1 1 1 1 1 1 1 1 1 1 1 1 1 1] \n",
      "\n",
      "[[1 1 1 1 1]\n",
      " [1 1 1 1 1]\n",
      " [1 1 1 1 1]\n",
      " [1 1 1 1 1]] \n",
      "\n",
      "[[  1   2   3   4   5]\n",
      " [  5   4   3   2   1]\n",
      " [  1   3   5   7  10]\n",
      " [-10  -5   0   5  10]]\n"
     ]
    }
   ],
   "source": [
    "np_array = np.ones((20), dtype= np.int64)\n",
    "print(np_array,\"\\n\")\n",
    "\n",
    "np_array= np_array.reshape(4,5)\n",
    "print(np_array,\"\\n\")\n",
    "\n",
    "np_array[0] = np.linspace(1,5,5)\n",
    "np_array[1] = np.linspace(5,1,5)\n",
    "np_array[2] = np.linspace(1,10,5)\n",
    "np_array[3] = np.linspace(-10,10,5)\n",
    "\n",
    "print(np_array)"
   ]
  },
  {
   "cell_type": "code",
   "execution_count": 84,
   "id": "cd463eb3",
   "metadata": {},
   "outputs": [
    {
     "data": {
      "text/plain": [
       "array([[-1.15709921, -1.15349461, -0.16598391,  0.54813955,  0.11955045],\n",
       "       [-0.81114563,  1.33249545,  0.93763511,  1.56556851,  0.24293581],\n",
       "       [-0.35414283,  0.10852285,  0.63154604,  1.1166095 , -0.9932544 ],\n",
       "       [ 0.58717849, -1.0476261 ,  1.30782532, -1.32230429, -0.62769723]])"
      ]
     },
     "execution_count": 84,
     "metadata": {},
     "output_type": "execute_result"
    }
   ],
   "source": [
    "niz_brojeva = np.random.randn(4,5)\n",
    "niz_brojeva\n"
   ]
  },
  {
   "cell_type": "code",
   "execution_count": 97,
   "id": "913acf73",
   "metadata": {},
   "outputs": [
    {
     "name": "stdout",
     "output_type": "stream",
     "text": [
      "[[ 1  2  3  4]\n",
      " [ 5  6  7  8]\n",
      " [ 9 10 11 12]\n",
      " [13 14 15 16]]\n"
     ]
    },
    {
     "data": {
      "text/plain": [
       "array([[ 1,  2,  3,  4],\n",
       "       [ 1,  2,  3,  4],\n",
       "       [ 1,  2,  3,  4],\n",
       "       [ 1,  2,  3,  4],\n",
       "       [ 5,  6,  7,  8],\n",
       "       [ 5,  6,  7,  8],\n",
       "       [ 5,  6,  7,  8],\n",
       "       [ 5,  6,  7,  8],\n",
       "       [ 9, 10, 11, 12],\n",
       "       [ 9, 10, 11, 12],\n",
       "       [ 9, 10, 11, 12],\n",
       "       [ 9, 10, 11, 12],\n",
       "       [13, 14, 15, 16],\n",
       "       [13, 14, 15, 16],\n",
       "       [13, 14, 15, 16],\n",
       "       [13, 14, 15, 16]])"
      ]
     },
     "execution_count": 97,
     "metadata": {},
     "output_type": "execute_result"
    }
   ],
   "source": [
    "niz_brojeva = np.arange(1,17).reshape(4,4)\n",
    "print(niz_brojeva)\n",
    "niz_brojeva.repeat(4, axis = 0)"
   ]
  },
  {
   "cell_type": "code",
   "execution_count": 99,
   "id": "e80e2ba6",
   "metadata": {},
   "outputs": [
    {
     "data": {
      "text/plain": [
       "array([[ 1,  1,  1,  1,  2,  2,  2,  2,  3,  3,  3,  3,  4,  4,  4,  4],\n",
       "       [ 5,  5,  5,  5,  6,  6,  6,  6,  7,  7,  7,  7,  8,  8,  8,  8],\n",
       "       [ 9,  9,  9,  9, 10, 10, 10, 10, 11, 11, 11, 11, 12, 12, 12, 12],\n",
       "       [13, 13, 13, 13, 14, 14, 14, 14, 15, 15, 15, 15, 16, 16, 16, 16]])"
      ]
     },
     "execution_count": 99,
     "metadata": {},
     "output_type": "execute_result"
    }
   ],
   "source": [
    "niz_brojeva.repeat(4, axis = 1)"
   ]
  },
  {
   "cell_type": "code",
   "execution_count": 109,
   "id": "2f5996f3",
   "metadata": {},
   "outputs": [
    {
     "data": {
      "text/plain": [
       "array([[ 1,  2,  3,  4,  5,  6],\n",
       "       [ 7,  8,  9, 10, 11, 12],\n",
       "       [13, 14, 15, 16, 17, 18],\n",
       "       [19, 20, 21, 22, 23, 24],\n",
       "       [25, 26, 27, 28, 29, 30],\n",
       "       [31, 32, 33, 34, 35, 36]], dtype=int64)"
      ]
     },
     "execution_count": 109,
     "metadata": {},
     "output_type": "execute_result"
    }
   ],
   "source": [
    "tri_d = tri_d.reshape(6,6)\n",
    "tri_d = np.array(tri_d, dtype= np.int64)\n",
    "tri_d"
   ]
  },
  {
   "cell_type": "code",
   "execution_count": 106,
   "id": "5805d2f3",
   "metadata": {},
   "outputs": [
    {
     "data": {
      "text/plain": [
       "array([[ 1,  2,  3,  4,  5,  6,  7,  8,  9],\n",
       "       [10, 11, 12, 13, 14, 15, 16, 17, 18],\n",
       "       [19, 20, 21, 22, 23, 24, 25, 26, 27]], dtype=int64)"
      ]
     },
     "execution_count": 106,
     "metadata": {},
     "output_type": "execute_result"
    }
   ],
   "source": [
    "tri_d[:2]"
   ]
  },
  {
   "cell_type": "code",
   "execution_count": 112,
   "id": "d35e99bb",
   "metadata": {},
   "outputs": [
    {
     "data": {
      "text/plain": [
       "array([ 7,  8,  9, 10], dtype=int64)"
      ]
     },
     "execution_count": 112,
     "metadata": {},
     "output_type": "execute_result"
    }
   ],
   "source": [
    "tri_d[1,:4]"
   ]
  },
  {
   "cell_type": "code",
   "execution_count": 113,
   "id": "d08febb3",
   "metadata": {},
   "outputs": [
    {
     "data": {
      "text/plain": [
       "array([27, 28, 29, 30], dtype=int64)"
      ]
     },
     "execution_count": 113,
     "metadata": {},
     "output_type": "execute_result"
    }
   ],
   "source": [
    "tri_d[-2,-4:]"
   ]
  },
  {
   "cell_type": "code",
   "execution_count": 114,
   "id": "968b64cc",
   "metadata": {},
   "outputs": [
    {
     "data": {
      "text/plain": [
       "array([ 2,  8, 14, 20, 26, 32], dtype=int64)"
      ]
     },
     "execution_count": 114,
     "metadata": {},
     "output_type": "execute_result"
    }
   ],
   "source": [
    "tri_d[:,1]"
   ]
  },
  {
   "cell_type": "code",
   "execution_count": 116,
   "id": "81b9f877",
   "metadata": {},
   "outputs": [
    {
     "data": {
      "text/plain": [
       "array([16, 22, 28, 34], dtype=int64)"
      ]
     },
     "execution_count": 116,
     "metadata": {},
     "output_type": "execute_result"
    }
   ],
   "source": [
    "tri_d[-4:,3]"
   ]
  },
  {
   "cell_type": "code",
   "execution_count": 117,
   "id": "a16fae82",
   "metadata": {},
   "outputs": [
    {
     "data": {
      "text/plain": [
       "array([[ 3,  4,  5,  6],\n",
       "       [ 9, 10, 11, 12],\n",
       "       [15, 16, 17, 18],\n",
       "       [21, 22, 23, 24]], dtype=int64)"
      ]
     },
     "execution_count": 117,
     "metadata": {},
     "output_type": "execute_result"
    }
   ],
   "source": [
    "tri_d[:4,-4:]"
   ]
  },
  {
   "cell_type": "markdown",
   "id": "dc86e21c",
   "metadata": {},
   "source": [
    "Kreirajte niz od 64 elemenata (početni i krajnji elementi neka budu proizvoljni). Prilagodite oblik niza tako da niz bude dvodimenzionalan.\n",
    "\n",
    "Dohvatite samo PRVI RED, samo ZADNJI RED, samo PRVI STUPAC, samo ZADNJI STUPAC. Dohvatite centralne elemente niza (najmanja tabela u sredini niza).\n",
    "\n",
    "Pokušajte sve to napraviti s trodimenzionalnim nizom. "
   ]
  },
  {
   "cell_type": "code",
   "execution_count": 143,
   "id": "1190e5f2",
   "metadata": {},
   "outputs": [
    {
     "name": "stdout",
     "output_type": "stream",
     "text": [
      "[[   0    1    4    9   16   25   36   49]\n",
      " [  64   81  100  121  144  169  196  225]\n",
      " [ 256  289  324  361  400  441  484  529]\n",
      " [ 576  625  676  729  784  841  900  961]\n",
      " [1024 1089 1156 1225 1296 1369 1444 1521]\n",
      " [1600 1681 1764 1849 1936 2025 2116 2209]\n",
      " [2304 2401 2500 2601 2704 2809 2916 3025]\n",
      " [3136 3249 3364 3481 3600 3721 3844 3969]] \n",
      "\n",
      "PRVI RED\n",
      "[ 0  1  4  9 16 25 36 49] \n",
      "\n",
      "ZADNJI RED\n",
      "[3136 3249 3364 3481 3600 3721 3844 3969] \n",
      "\n",
      "PRVI STUPAC\n",
      "[   0   64  256  576 1024 1600 2304 3136] \n",
      "\n",
      "ZADNJI RED\n",
      "[  49  225  529  961 1521 2209 3025 3969] \n",
      "\n",
      "centralne elemente\n",
      "[[ 729  784]\n",
      " [1225 1296]] \n",
      "\n"
     ]
    }
   ],
   "source": [
    "#2d\n",
    "niz_brojeva_2d = np.arange(0,64).reshape(8,8)**2\n",
    "print(niz_brojeva_2d,\"\\n\")\n",
    "\n",
    "print(\"PRVI RED\")\n",
    "print(niz_brojeva_2d[0,:],\"\\n\")\n",
    "\n",
    "print(\"ZADNJI RED\")\n",
    "print(niz_brojeva_2d[-1,:],\"\\n\")\n",
    "\n",
    "print(\"PRVI STUPAC\")\n",
    "print(niz_brojeva_2d[:,0],\"\\n\")\n",
    "\n",
    "print(\"ZADNJI RED\")\n",
    "print(niz_brojeva_2d[:,-1],\"\\n\")\n",
    "\n",
    "print(\"centralne elemente\")\n",
    "print(niz_brojeva_2d[3:5,3:5],\"\\n\")"
   ]
  },
  {
   "cell_type": "code",
   "execution_count": 132,
   "id": "6a9dabf0",
   "metadata": {},
   "outputs": [
    {
     "name": "stdout",
     "output_type": "stream",
     "text": [
      "[[[  0   1   2   3   4   5   6   7]\n",
      "  [  8   9  10  11  12  13  14  15]\n",
      "  [ 16  17  18  19  20  21  22  23]\n",
      "  [ 24  25  26  27  28  29  30  31]\n",
      "  [ 32  33  34  35  36  37  38  39]\n",
      "  [ 40  41  42  43  44  45  46  47]\n",
      "  [ 48  49  50  51  52  53  54  55]\n",
      "  [ 56  57  58  59  60  61  62  63]]\n",
      "\n",
      " [[ 64  65  66  67  68  69  70  71]\n",
      "  [ 72  73  74  75  76  77  78  79]\n",
      "  [ 80  81  82  83  84  85  86  87]\n",
      "  [ 88  89  90  91  92  93  94  95]\n",
      "  [ 96  97  98  99 100 101 102 103]\n",
      "  [104 105 106 107 108 109 110 111]\n",
      "  [112 113 114 115 116 117 118 119]\n",
      "  [120 121 122 123 124 125 126 127]]\n",
      "\n",
      " [[128 129 130 131 132 133 134 135]\n",
      "  [136 137 138 139 140 141 142 143]\n",
      "  [144 145 146 147 148 149 150 151]\n",
      "  [152 153 154 155 156 157 158 159]\n",
      "  [160 161 162 163 164 165 166 167]\n",
      "  [168 169 170 171 172 173 174 175]\n",
      "  [176 177 178 179 180 181 182 183]\n",
      "  [184 185 186 187 188 189 190 191]]\n",
      "\n",
      " [[192 193 194 195 196 197 198 199]\n",
      "  [200 201 202 203 204 205 206 207]\n",
      "  [208 209 210 211 212 213 214 215]\n",
      "  [216 217 218 219 220 221 222 223]\n",
      "  [224 225 226 227 228 229 230 231]\n",
      "  [232 233 234 235 236 237 238 239]\n",
      "  [240 241 242 243 244 245 246 247]\n",
      "  [248 249 250 251 252 253 254 255]]\n",
      "\n",
      " [[256 257 258 259 260 261 262 263]\n",
      "  [264 265 266 267 268 269 270 271]\n",
      "  [272 273 274 275 276 277 278 279]\n",
      "  [280 281 282 283 284 285 286 287]\n",
      "  [288 289 290 291 292 293 294 295]\n",
      "  [296 297 298 299 300 301 302 303]\n",
      "  [304 305 306 307 308 309 310 311]\n",
      "  [312 313 314 315 316 317 318 319]]\n",
      "\n",
      " [[320 321 322 323 324 325 326 327]\n",
      "  [328 329 330 331 332 333 334 335]\n",
      "  [336 337 338 339 340 341 342 343]\n",
      "  [344 345 346 347 348 349 350 351]\n",
      "  [352 353 354 355 356 357 358 359]\n",
      "  [360 361 362 363 364 365 366 367]\n",
      "  [368 369 370 371 372 373 374 375]\n",
      "  [376 377 378 379 380 381 382 383]]\n",
      "\n",
      " [[384 385 386 387 388 389 390 391]\n",
      "  [392 393 394 395 396 397 398 399]\n",
      "  [400 401 402 403 404 405 406 407]\n",
      "  [408 409 410 411 412 413 414 415]\n",
      "  [416 417 418 419 420 421 422 423]\n",
      "  [424 425 426 427 428 429 430 431]\n",
      "  [432 433 434 435 436 437 438 439]\n",
      "  [440 441 442 443 444 445 446 447]]\n",
      "\n",
      " [[448 449 450 451 452 453 454 455]\n",
      "  [456 457 458 459 460 461 462 463]\n",
      "  [464 465 466 467 468 469 470 471]\n",
      "  [472 473 474 475 476 477 478 479]\n",
      "  [480 481 482 483 484 485 486 487]\n",
      "  [488 489 490 491 492 493 494 495]\n",
      "  [496 497 498 499 500 501 502 503]\n",
      "  [504 505 506 507 508 509 510 511]]] \n",
      "\n"
     ]
    }
   ],
   "source": [
    "#3d\n",
    "niz_brojeva_3d = np.arange(0,512).reshape(8,8,8)\n",
    "print(niz_brojeva_3d,\"\\n\")"
   ]
  },
  {
   "cell_type": "code",
   "execution_count": 155,
   "id": "ceef2f7d",
   "metadata": {},
   "outputs": [
    {
     "name": "stdout",
     "output_type": "stream",
     "text": [
      "PRVI RED\n",
      "[[ 0  1  2  3  4  5  6  7]\n",
      " [ 8  9 10 11 12 13 14 15]\n",
      " [16 17 18 19 20 21 22 23]\n",
      " [24 25 26 27 28 29 30 31]\n",
      " [32 33 34 35 36 37 38 39]\n",
      " [40 41 42 43 44 45 46 47]\n",
      " [48 49 50 51 52 53 54 55]\n",
      " [56 57 58 59 60 61 62 63]] \n",
      "\n",
      "ZADNJI RED\n",
      "[[448 449 450 451 452 453 454 455]\n",
      " [456 457 458 459 460 461 462 463]\n",
      " [464 465 466 467 468 469 470 471]\n",
      " [472 473 474 475 476 477 478 479]\n",
      " [480 481 482 483 484 485 486 487]\n",
      " [488 489 490 491 492 493 494 495]\n",
      " [496 497 498 499 500 501 502 503]\n",
      " [504 505 506 507 508 509 510 511]] \n",
      "\n",
      "PRVI STUPAC\n",
      "[[  0   8  16  24  32  40  48  56]\n",
      " [ 64  72  80  88  96 104 112 120]\n",
      " [128 136 144 152 160 168 176 184]\n",
      " [192 200 208 216 224 232 240 248]\n",
      " [256 264 272 280 288 296 304 312]\n",
      " [320 328 336 344 352 360 368 376]\n",
      " [384 392 400 408 416 424 432 440]\n",
      " [448 456 464 472 480 488 496 504]] \n",
      "\n",
      "ZADNJI RED\n",
      "[[  7  15  23  31  39  47  55  63]\n",
      " [ 71  79  87  95 103 111 119 127]\n",
      " [135 143 151 159 167 175 183 191]\n",
      " [199 207 215 223 231 239 247 255]\n",
      " [263 271 279 287 295 303 311 319]\n",
      " [327 335 343 351 359 367 375 383]\n",
      " [391 399 407 415 423 431 439 447]\n",
      " [455 463 471 479 487 495 503 511]] \n",
      "\n",
      "centralne elemente\n",
      "[[219 220]\n",
      " [227 228]] \n",
      "\n",
      "[[283 284]\n",
      " [291 292]] \n",
      "\n"
     ]
    }
   ],
   "source": [
    "print(\"PRVI RED\")\n",
    "print(niz_brojeva_3d[0,:,:],\"\\n\")\n",
    "\n",
    "print(\"ZADNJI RED\")\n",
    "print(niz_brojeva_3d[-1,:,:],\"\\n\")\n",
    "\n",
    "print(\"PRVI STUPAC\")\n",
    "print(niz_brojeva_3d[:,:,0],\"\\n\")\n",
    "\n",
    "print(\"ZADNJI RED\")\n",
    "print(niz_brojeva_3d[:,:,-1],\"\\n\")\n",
    "\n",
    "print(\"centralne elemente\")\n",
    "print(niz_brojeva_3d[3,3:5,3:5],\"\\n\")\n",
    "print(niz_brojeva_3d[4,3:5,3:5],\"\\n\")"
   ]
  },
  {
   "cell_type": "code",
   "execution_count": null,
   "id": "3338d064",
   "metadata": {},
   "outputs": [],
   "source": [
    "#ZADACA\n",
    "\"\"\"\n",
    "napraviti 4x4 dvodimenzionalni niz\n",
    "\n",
    "Sliceanjem dobiti:\n",
    "\n",
    "    -prvi red, zadnji red,\n",
    "    -prva dva, zadnja dva,\n",
    "    -svaki drugi red/stupac,\n",
    "    -gornja lijeva 4 elementa,\n",
    "    -donja lijeva/desna\n",
    "    -svaki drugi u svim smjerovima\n",
    "\n",
    "\"\"\""
   ]
  }
 ],
 "metadata": {
  "kernelspec": {
   "display_name": "Python 3 (ipykernel)",
   "language": "python",
   "name": "python3"
  },
  "language_info": {
   "codemirror_mode": {
    "name": "ipython",
    "version": 3
   },
   "file_extension": ".py",
   "mimetype": "text/x-python",
   "name": "python",
   "nbconvert_exporter": "python",
   "pygments_lexer": "ipython3",
   "version": "3.11.4"
  }
 },
 "nbformat": 4,
 "nbformat_minor": 5
}
